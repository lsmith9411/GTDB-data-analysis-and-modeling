{
 "cells": [
  {
   "cell_type": "code",
   "execution_count": 1,
   "metadata": {
    "ExecuteTime": {
     "end_time": "2024-07-11T21:25:27.734505Z",
     "start_time": "2024-07-11T21:25:25.523334Z"
    }
   },
   "outputs": [],
   "source": [
    "import pandas as pd\n",
    "import seaborn as sns\n",
    "import numpy as np\n",
    "import folium\n",
    "import plotly.graph_objects as gp\n",
    "import matplotlib.pyplot as plt\n",
    "#from sci378 import *"
   ]
  },
  {
   "cell_type": "code",
   "execution_count": 2,
   "metadata": {
    "ExecuteTime": {
     "end_time": "2024-07-11T21:25:27.811609Z",
     "start_time": "2024-07-11T21:25:27.739080Z"
    }
   },
   "outputs": [
    {
     "data": {
      "text/html": [
       "<div>\n",
       "<style scoped>\n",
       "    .dataframe tbody tr th:only-of-type {\n",
       "        vertical-align: middle;\n",
       "    }\n",
       "\n",
       "    .dataframe tbody tr th {\n",
       "        vertical-align: top;\n",
       "    }\n",
       "\n",
       "    .dataframe thead th {\n",
       "        text-align: right;\n",
       "    }\n",
       "</style>\n",
       "<table border=\"1\" class=\"dataframe\">\n",
       "  <thead>\n",
       "    <tr style=\"text-align: right;\">\n",
       "      <th></th>\n",
       "      <th>Year</th>\n",
       "      <th>Afghanistan</th>\n",
       "      <th>African Union**</th>\n",
       "      <th>Albania</th>\n",
       "      <th>Algeria</th>\n",
       "      <th>Amal (Lebanon)*</th>\n",
       "      <th>ANC (South Africa)*</th>\n",
       "      <th>Angola</th>\n",
       "      <th>Anti-Castro rebels (Cuba)*</th>\n",
       "      <th>Argentina</th>\n",
       "      <th>...</th>\n",
       "      <th>Viet Minh (France)*</th>\n",
       "      <th>Viet Nam</th>\n",
       "      <th>Western Sahara</th>\n",
       "      <th>Yemen</th>\n",
       "      <th>Yemen Arab Republic</th>\n",
       "      <th>Yugoslavia</th>\n",
       "      <th>Zambia</th>\n",
       "      <th>ZAPU (Zimbabwe)*</th>\n",
       "      <th>Zimbabwe</th>\n",
       "      <th>Total</th>\n",
       "    </tr>\n",
       "  </thead>\n",
       "  <tbody>\n",
       "    <tr>\n",
       "      <th>67</th>\n",
       "      <td>2017</td>\n",
       "      <td>252.0</td>\n",
       "      <td>NaN</td>\n",
       "      <td>2.0</td>\n",
       "      <td>1139.0</td>\n",
       "      <td>NaN</td>\n",
       "      <td>NaN</td>\n",
       "      <td>110.0</td>\n",
       "      <td>NaN</td>\n",
       "      <td>45.0</td>\n",
       "      <td>...</td>\n",
       "      <td>NaN</td>\n",
       "      <td>783.0</td>\n",
       "      <td>NaN</td>\n",
       "      <td>6.0</td>\n",
       "      <td>NaN</td>\n",
       "      <td>NaN</td>\n",
       "      <td>46.0</td>\n",
       "      <td>NaN</td>\n",
       "      <td>NaN</td>\n",
       "      <td>31878</td>\n",
       "    </tr>\n",
       "    <tr>\n",
       "      <th>68</th>\n",
       "      <td>2018</td>\n",
       "      <td>322.0</td>\n",
       "      <td>0.0</td>\n",
       "      <td>3.0</td>\n",
       "      <td>1291.0</td>\n",
       "      <td>NaN</td>\n",
       "      <td>NaN</td>\n",
       "      <td>272.0</td>\n",
       "      <td>NaN</td>\n",
       "      <td>18.0</td>\n",
       "      <td>...</td>\n",
       "      <td>NaN</td>\n",
       "      <td>604.0</td>\n",
       "      <td>NaN</td>\n",
       "      <td>9.0</td>\n",
       "      <td>NaN</td>\n",
       "      <td>NaN</td>\n",
       "      <td>NaN</td>\n",
       "      <td>NaN</td>\n",
       "      <td>NaN</td>\n",
       "      <td>27327</td>\n",
       "    </tr>\n",
       "    <tr>\n",
       "      <th>69</th>\n",
       "      <td>2019</td>\n",
       "      <td>396.0</td>\n",
       "      <td>2.0</td>\n",
       "      <td>5.0</td>\n",
       "      <td>164.0</td>\n",
       "      <td>NaN</td>\n",
       "      <td>NaN</td>\n",
       "      <td>169.0</td>\n",
       "      <td>NaN</td>\n",
       "      <td>50.0</td>\n",
       "      <td>...</td>\n",
       "      <td>NaN</td>\n",
       "      <td>160.0</td>\n",
       "      <td>NaN</td>\n",
       "      <td>NaN</td>\n",
       "      <td>NaN</td>\n",
       "      <td>NaN</td>\n",
       "      <td>43.0</td>\n",
       "      <td>NaN</td>\n",
       "      <td>NaN</td>\n",
       "      <td>27502</td>\n",
       "    </tr>\n",
       "    <tr>\n",
       "      <th>70</th>\n",
       "      <td>2020</td>\n",
       "      <td>240.0</td>\n",
       "      <td>NaN</td>\n",
       "      <td>1.0</td>\n",
       "      <td>661.0</td>\n",
       "      <td>NaN</td>\n",
       "      <td>NaN</td>\n",
       "      <td>51.0</td>\n",
       "      <td>NaN</td>\n",
       "      <td>7.0</td>\n",
       "      <td>...</td>\n",
       "      <td>NaN</td>\n",
       "      <td>32.0</td>\n",
       "      <td>NaN</td>\n",
       "      <td>NaN</td>\n",
       "      <td>NaN</td>\n",
       "      <td>NaN</td>\n",
       "      <td>1.0</td>\n",
       "      <td>NaN</td>\n",
       "      <td>NaN</td>\n",
       "      <td>23677</td>\n",
       "    </tr>\n",
       "    <tr>\n",
       "      <th>71</th>\n",
       "      <td>2021</td>\n",
       "      <td>16403.0</td>\n",
       "      <td>78.0</td>\n",
       "      <td>2771.0</td>\n",
       "      <td>32383.0</td>\n",
       "      <td>60.0</td>\n",
       "      <td>0.0</td>\n",
       "      <td>8544.0</td>\n",
       "      <td>2.0</td>\n",
       "      <td>12171.0</td>\n",
       "      <td>...</td>\n",
       "      <td>3.0</td>\n",
       "      <td>26944.0</td>\n",
       "      <td>77.0</td>\n",
       "      <td>2443.0</td>\n",
       "      <td>63.0</td>\n",
       "      <td>17476.0</td>\n",
       "      <td>1256.0</td>\n",
       "      <td>1.0</td>\n",
       "      <td>946.0</td>\n",
       "      <td>1976320</td>\n",
       "    </tr>\n",
       "  </tbody>\n",
       "</table>\n",
       "<p>5 rows × 262 columns</p>\n",
       "</div>"
      ],
      "text/plain": [
       "    Year  Afghanistan  African Union**  Albania  Algeria  Amal (Lebanon)*  \\\n",
       "67  2017        252.0              NaN      2.0   1139.0              NaN   \n",
       "68  2018        322.0              0.0      3.0   1291.0              NaN   \n",
       "69  2019        396.0              2.0      5.0    164.0              NaN   \n",
       "70  2020        240.0              NaN      1.0    661.0              NaN   \n",
       "71  2021      16403.0             78.0   2771.0  32383.0             60.0   \n",
       "\n",
       "    ANC (South Africa)*  Angola  Anti-Castro rebels (Cuba)*  Argentina  ...  \\\n",
       "67                  NaN   110.0                         NaN       45.0  ...   \n",
       "68                  NaN   272.0                         NaN       18.0  ...   \n",
       "69                  NaN   169.0                         NaN       50.0  ...   \n",
       "70                  NaN    51.0                         NaN        7.0  ...   \n",
       "71                  0.0  8544.0                         2.0    12171.0  ...   \n",
       "\n",
       "    Viet Minh (France)*  Viet Nam  Western Sahara   Yemen  \\\n",
       "67                  NaN     783.0             NaN     6.0   \n",
       "68                  NaN     604.0             NaN     9.0   \n",
       "69                  NaN     160.0             NaN     NaN   \n",
       "70                  NaN      32.0             NaN     NaN   \n",
       "71                  3.0   26944.0            77.0  2443.0   \n",
       "\n",
       "    Yemen Arab Republic  Yugoslavia  Zambia  ZAPU (Zimbabwe)*  Zimbabwe  \\\n",
       "67                  NaN         NaN    46.0               NaN       NaN   \n",
       "68                  NaN         NaN     NaN               NaN       NaN   \n",
       "69                  NaN         NaN    43.0               NaN       NaN   \n",
       "70                  NaN         NaN     1.0               NaN       NaN   \n",
       "71                 63.0     17476.0  1256.0               1.0     946.0   \n",
       "\n",
       "      Total  \n",
       "67    31878  \n",
       "68    27327  \n",
       "69    27502  \n",
       "70    23677  \n",
       "71  1976320  \n",
       "\n",
       "[5 rows x 262 columns]"
      ]
     },
     "execution_count": 2,
     "metadata": {},
     "output_type": "execute_result"
    }
   ],
   "source": [
    "dfArms = pd.read_csv(\"ArmsImports.csv\")\n",
    "dfArms.tail()"
   ]
  },
  {
   "cell_type": "code",
   "execution_count": 3,
   "metadata": {
    "ExecuteTime": {
     "end_time": "2024-07-11T21:25:27.857693Z",
     "start_time": "2024-07-11T21:25:27.815646Z"
    }
   },
   "outputs": [
    {
     "data": {
      "text/html": [
       "<div>\n",
       "<style scoped>\n",
       "    .dataframe tbody tr th:only-of-type {\n",
       "        vertical-align: middle;\n",
       "    }\n",
       "\n",
       "    .dataframe tbody tr th {\n",
       "        vertical-align: top;\n",
       "    }\n",
       "\n",
       "    .dataframe thead th {\n",
       "        text-align: right;\n",
       "    }\n",
       "</style>\n",
       "<table border=\"1\" class=\"dataframe\">\n",
       "  <thead>\n",
       "    <tr style=\"text-align: right;\">\n",
       "      <th></th>\n",
       "      <th>Record_Date</th>\n",
       "      <th>Debt_Held_by_the_Public</th>\n",
       "      <th>Intragovernmental_Holdings</th>\n",
       "      <th>Total_Public_Debt_Outstanding</th>\n",
       "    </tr>\n",
       "  </thead>\n",
       "  <tbody>\n",
       "    <tr>\n",
       "      <th>0</th>\n",
       "      <td>2/15/2023</td>\n",
       "      <td>2.460000e+13</td>\n",
       "      <td>6.820000e+12</td>\n",
       "      <td>3.150000e+13</td>\n",
       "    </tr>\n",
       "    <tr>\n",
       "      <th>1</th>\n",
       "      <td>2/14/2023</td>\n",
       "      <td>2.460000e+13</td>\n",
       "      <td>6.830000e+12</td>\n",
       "      <td>3.150000e+13</td>\n",
       "    </tr>\n",
       "    <tr>\n",
       "      <th>2</th>\n",
       "      <td>2/13/2023</td>\n",
       "      <td>2.460000e+13</td>\n",
       "      <td>6.830000e+12</td>\n",
       "      <td>3.150000e+13</td>\n",
       "    </tr>\n",
       "    <tr>\n",
       "      <th>3</th>\n",
       "      <td>2/10/2023</td>\n",
       "      <td>2.460000e+13</td>\n",
       "      <td>6.820000e+12</td>\n",
       "      <td>3.150000e+13</td>\n",
       "    </tr>\n",
       "    <tr>\n",
       "      <th>4</th>\n",
       "      <td>2/9/2023</td>\n",
       "      <td>2.460000e+13</td>\n",
       "      <td>6.820000e+12</td>\n",
       "      <td>3.150000e+13</td>\n",
       "    </tr>\n",
       "    <tr>\n",
       "      <th>...</th>\n",
       "      <td>...</td>\n",
       "      <td>...</td>\n",
       "      <td>...</td>\n",
       "      <td>...</td>\n",
       "    </tr>\n",
       "    <tr>\n",
       "      <th>7490</th>\n",
       "      <td>4/7/1993</td>\n",
       "      <td>NaN</td>\n",
       "      <td>NaN</td>\n",
       "      <td>4.250000e+12</td>\n",
       "    </tr>\n",
       "    <tr>\n",
       "      <th>7491</th>\n",
       "      <td>4/6/1993</td>\n",
       "      <td>NaN</td>\n",
       "      <td>NaN</td>\n",
       "      <td>4.240000e+12</td>\n",
       "    </tr>\n",
       "    <tr>\n",
       "      <th>7492</th>\n",
       "      <td>4/5/1993</td>\n",
       "      <td>NaN</td>\n",
       "      <td>NaN</td>\n",
       "      <td>4.230000e+12</td>\n",
       "    </tr>\n",
       "    <tr>\n",
       "      <th>7493</th>\n",
       "      <td>4/2/1993</td>\n",
       "      <td>NaN</td>\n",
       "      <td>NaN</td>\n",
       "      <td>4.230000e+12</td>\n",
       "    </tr>\n",
       "    <tr>\n",
       "      <th>7494</th>\n",
       "      <td>4/1/1993</td>\n",
       "      <td>NaN</td>\n",
       "      <td>NaN</td>\n",
       "      <td>4.230000e+12</td>\n",
       "    </tr>\n",
       "  </tbody>\n",
       "</table>\n",
       "<p>7495 rows × 4 columns</p>\n",
       "</div>"
      ],
      "text/plain": [
       "     Record_Date  Debt_Held_by_the_Public  Intragovernmental_Holdings  \\\n",
       "0      2/15/2023             2.460000e+13                6.820000e+12   \n",
       "1      2/14/2023             2.460000e+13                6.830000e+12   \n",
       "2      2/13/2023             2.460000e+13                6.830000e+12   \n",
       "3      2/10/2023             2.460000e+13                6.820000e+12   \n",
       "4       2/9/2023             2.460000e+13                6.820000e+12   \n",
       "...          ...                      ...                         ...   \n",
       "7490    4/7/1993                      NaN                         NaN   \n",
       "7491    4/6/1993                      NaN                         NaN   \n",
       "7492    4/5/1993                      NaN                         NaN   \n",
       "7493    4/2/1993                      NaN                         NaN   \n",
       "7494    4/1/1993                      NaN                         NaN   \n",
       "\n",
       "      Total_Public_Debt_Outstanding  \n",
       "0                      3.150000e+13  \n",
       "1                      3.150000e+13  \n",
       "2                      3.150000e+13  \n",
       "3                      3.150000e+13  \n",
       "4                      3.150000e+13  \n",
       "...                             ...  \n",
       "7490                   4.250000e+12  \n",
       "7491                   4.240000e+12  \n",
       "7492                   4.230000e+12  \n",
       "7493                   4.230000e+12  \n",
       "7494                   4.230000e+12  \n",
       "\n",
       "[7495 rows x 4 columns]"
      ]
     },
     "execution_count": 3,
     "metadata": {},
     "output_type": "execute_result"
    }
   ],
   "source": [
    "dfDebt = pd.read_csv(\"US Debt Tracker Dataset (Ver 2.17.23).csv\")\n",
    "dfDebt"
   ]
  },
  {
   "cell_type": "code",
   "execution_count": 4,
   "metadata": {
    "ExecuteTime": {
     "end_time": "2024-07-11T21:25:28.433393Z",
     "start_time": "2024-07-11T21:25:27.863692Z"
    }
   },
   "outputs": [
    {
     "data": {
      "text/html": [
       "<div>\n",
       "<style scoped>\n",
       "    .dataframe tbody tr th:only-of-type {\n",
       "        vertical-align: middle;\n",
       "    }\n",
       "\n",
       "    .dataframe tbody tr th {\n",
       "        vertical-align: top;\n",
       "    }\n",
       "\n",
       "    .dataframe thead th {\n",
       "        text-align: right;\n",
       "    }\n",
       "</style>\n",
       "<table border=\"1\" class=\"dataframe\">\n",
       "  <thead>\n",
       "    <tr style=\"text-align: right;\">\n",
       "      <th></th>\n",
       "      <th>Year_Month</th>\n",
       "      <th>Debt_Held_by_the_Public</th>\n",
       "      <th>Intragovernmental_Holdings</th>\n",
       "      <th>Total_Public_Debt_Outstanding</th>\n",
       "    </tr>\n",
       "  </thead>\n",
       "  <tbody>\n",
       "    <tr>\n",
       "      <th>0</th>\n",
       "      <td>1993-04</td>\n",
       "      <td>NaN</td>\n",
       "      <td>NaN</td>\n",
       "      <td>4.240455e+12</td>\n",
       "    </tr>\n",
       "    <tr>\n",
       "      <th>1</th>\n",
       "      <td>1993-05</td>\n",
       "      <td>NaN</td>\n",
       "      <td>NaN</td>\n",
       "      <td>4.266500e+12</td>\n",
       "    </tr>\n",
       "    <tr>\n",
       "      <th>2</th>\n",
       "      <td>1993-06</td>\n",
       "      <td>NaN</td>\n",
       "      <td>NaN</td>\n",
       "      <td>4.303182e+12</td>\n",
       "    </tr>\n",
       "    <tr>\n",
       "      <th>3</th>\n",
       "      <td>1993-07</td>\n",
       "      <td>NaN</td>\n",
       "      <td>NaN</td>\n",
       "      <td>4.340476e+12</td>\n",
       "    </tr>\n",
       "    <tr>\n",
       "      <th>4</th>\n",
       "      <td>1993-08</td>\n",
       "      <td>NaN</td>\n",
       "      <td>NaN</td>\n",
       "      <td>4.371364e+12</td>\n",
       "    </tr>\n",
       "  </tbody>\n",
       "</table>\n",
       "</div>"
      ],
      "text/plain": [
       "  Year_Month  Debt_Held_by_the_Public  Intragovernmental_Holdings  \\\n",
       "0    1993-04                      NaN                         NaN   \n",
       "1    1993-05                      NaN                         NaN   \n",
       "2    1993-06                      NaN                         NaN   \n",
       "3    1993-07                      NaN                         NaN   \n",
       "4    1993-08                      NaN                         NaN   \n",
       "\n",
       "   Total_Public_Debt_Outstanding  \n",
       "0                   4.240455e+12  \n",
       "1                   4.266500e+12  \n",
       "2                   4.303182e+12  \n",
       "3                   4.340476e+12  \n",
       "4                   4.371364e+12  "
      ]
     },
     "execution_count": 4,
     "metadata": {},
     "output_type": "execute_result"
    }
   ],
   "source": [
    "dfDebt['Record_Date'] = pd.to_datetime(dfDebt['Record_Date'])\n",
    "\n",
    "dfDebt['Year_Month'] = dfDebt['Record_Date'].dt.to_period('M')\n",
    "\n",
    "df_monthly_avg = dfDebt.groupby('Year_Month').mean().reset_index()\n",
    "\n",
    "df_monthly_avg.head()"
   ]
  },
  {
   "cell_type": "code",
   "execution_count": 5,
   "metadata": {
    "ExecuteTime": {
     "end_time": "2024-07-11T21:25:28.480615Z",
     "start_time": "2024-07-11T21:25:28.435995Z"
    }
   },
   "outputs": [
    {
     "name": "stdout",
     "output_type": "stream",
     "text": [
      "    Year  Debt_Held_by_the_Public  Intragovernmental_Holdings  \\\n",
      "0   1993                      NaN                         NaN   \n",
      "1   1994                      NaN                         NaN   \n",
      "2   1995                      NaN                         NaN   \n",
      "3   1996                      NaN                         NaN   \n",
      "4   1997             3.790000e+12                1.620000e+12   \n",
      "5   1998             3.730000e+12                1.790000e+12   \n",
      "6   1999             3.640000e+12                2.020000e+12   \n",
      "7   2000             3.410000e+12                2.270000e+12   \n",
      "8   2001             3.365000e+12                2.495000e+12   \n",
      "9   2002             3.504167e+12                2.637500e+12   \n",
      "10  2003             3.865455e+12                2.833636e+12   \n",
      "11  2004             4.247500e+12                3.040833e+12   \n",
      "12  2005             4.609529e+12                3.296754e+12   \n",
      "13  2006             4.834422e+12                3.581594e+12   \n",
      "14  2007             5.022749e+12                3.886773e+12   \n",
      "15  2008             5.542738e+12                4.161270e+12   \n",
      "16  2009             7.119286e+12                4.330476e+12   \n",
      "17  2010             8.604365e+12                4.526190e+12   \n",
      "18  2011             9.852590e+12                4.646335e+12   \n",
      "19  2012             1.105578e+13                4.778486e+12   \n",
      "20  2013             1.194024e+13                4.854303e+12   \n",
      "21  2014             1.263108e+13                5.010876e+12   \n",
      "22  2015             1.314921e+13                5.092937e+12   \n",
      "23  2016             1.398884e+13                5.389363e+12   \n",
      "24  2017             1.449363e+13                5.546295e+12   \n",
      "25  2018             1.550438e+13                5.726693e+12   \n",
      "26  2019             1.645200e+13                5.882760e+12   \n",
      "27  2020             1.965731e+13                5.974506e+12   \n",
      "28  2021             2.218413e+13                6.181905e+12   \n",
      "29  2022             2.398280e+13                6.632000e+12   \n",
      "30  2023             2.456452e+13                6.854194e+12   \n",
      "\n",
      "    Total_Public_Debt_Outstanding  \n",
      "0                    4.361990e+12  \n",
      "1                    4.627610e+12  \n",
      "2                    4.909080e+12  \n",
      "3                    5.144841e+12  \n",
      "4                    5.377177e+12  \n",
      "5                    5.529880e+12  \n",
      "6                    5.638996e+12  \n",
      "7                    5.690280e+12  \n",
      "8                    5.750810e+12  \n",
      "9                    6.109044e+12  \n",
      "10                   6.643347e+12  \n",
      "11                   7.257510e+12  \n",
      "12                   7.852760e+12  \n",
      "13                   8.416534e+12  \n",
      "14                   8.909681e+12  \n",
      "15                   9.706071e+12  \n",
      "16                   1.144802e+13  \n",
      "17                   1.312976e+13  \n",
      "18                   1.448884e+13  \n",
      "19                   1.582590e+13  \n",
      "20                   1.677570e+13  \n",
      "21                   1.763586e+13  \n",
      "22                   1.827024e+13  \n",
      "23                   1.938446e+13  \n",
      "24                   2.001554e+13  \n",
      "25                   2.123586e+13  \n",
      "26                   2.232440e+13  \n",
      "27                   2.563202e+13  \n",
      "28                   2.836111e+13  \n",
      "29                   3.060880e+13  \n",
      "30                   3.146452e+13  \n"
     ]
    }
   ],
   "source": [
    "dfDebt['Record_Date'] = pd.to_datetime(dfDebt['Record_Date'])\n",
    "\n",
    "dfDebt['Year'] = dfDebt['Record_Date'].dt.year\n",
    "dfDebtYearly = dfDebt.groupby('Year').mean().reset_index()\n",
    "\n",
    "print(dfDebtYearly)\n"
   ]
  },
  {
   "cell_type": "code",
   "execution_count": 6,
   "metadata": {
    "ExecuteTime": {
     "end_time": "2024-07-11T21:25:28.542182Z",
     "start_time": "2024-07-11T21:25:28.482585Z"
    }
   },
   "outputs": [
    {
     "data": {
      "text/html": [
       "<div>\n",
       "<style scoped>\n",
       "    .dataframe tbody tr th:only-of-type {\n",
       "        vertical-align: middle;\n",
       "    }\n",
       "\n",
       "    .dataframe tbody tr th {\n",
       "        vertical-align: top;\n",
       "    }\n",
       "\n",
       "    .dataframe thead th {\n",
       "        text-align: right;\n",
       "    }\n",
       "</style>\n",
       "<table border=\"1\" class=\"dataframe\">\n",
       "  <thead>\n",
       "    <tr style=\"text-align: right;\">\n",
       "      <th></th>\n",
       "      <th>Year</th>\n",
       "      <th>Debt_Held_by_the_Public</th>\n",
       "      <th>Intragovernmental_Holdings</th>\n",
       "      <th>Total_Public_Debt_Outstanding</th>\n",
       "      <th>Afghanistan</th>\n",
       "      <th>African Union**</th>\n",
       "      <th>Albania</th>\n",
       "      <th>Algeria</th>\n",
       "      <th>Amal (Lebanon)*</th>\n",
       "      <th>ANC (South Africa)*</th>\n",
       "      <th>...</th>\n",
       "      <th>Viet Minh (France)*</th>\n",
       "      <th>Viet Nam</th>\n",
       "      <th>Western Sahara</th>\n",
       "      <th>Yemen</th>\n",
       "      <th>Yemen Arab Republic</th>\n",
       "      <th>Yugoslavia</th>\n",
       "      <th>Zambia</th>\n",
       "      <th>ZAPU (Zimbabwe)*</th>\n",
       "      <th>Zimbabwe</th>\n",
       "      <th>Total</th>\n",
       "    </tr>\n",
       "  </thead>\n",
       "  <tbody>\n",
       "    <tr>\n",
       "      <th>0</th>\n",
       "      <td>1993</td>\n",
       "      <td>NaN</td>\n",
       "      <td>NaN</td>\n",
       "      <td>4.361990e+12</td>\n",
       "      <td>NaN</td>\n",
       "      <td>NaN</td>\n",
       "      <td>NaN</td>\n",
       "      <td>20.0</td>\n",
       "      <td>NaN</td>\n",
       "      <td>NaN</td>\n",
       "      <td>...</td>\n",
       "      <td>NaN</td>\n",
       "      <td>NaN</td>\n",
       "      <td>NaN</td>\n",
       "      <td>NaN</td>\n",
       "      <td>NaN</td>\n",
       "      <td>NaN</td>\n",
       "      <td>NaN</td>\n",
       "      <td>NaN</td>\n",
       "      <td>0.0</td>\n",
       "      <td>25854.0</td>\n",
       "    </tr>\n",
       "    <tr>\n",
       "      <th>1</th>\n",
       "      <td>1994</td>\n",
       "      <td>NaN</td>\n",
       "      <td>NaN</td>\n",
       "      <td>4.627610e+12</td>\n",
       "      <td>NaN</td>\n",
       "      <td>NaN</td>\n",
       "      <td>NaN</td>\n",
       "      <td>182.0</td>\n",
       "      <td>NaN</td>\n",
       "      <td>NaN</td>\n",
       "      <td>...</td>\n",
       "      <td>NaN</td>\n",
       "      <td>NaN</td>\n",
       "      <td>NaN</td>\n",
       "      <td>4.0</td>\n",
       "      <td>NaN</td>\n",
       "      <td>NaN</td>\n",
       "      <td>NaN</td>\n",
       "      <td>NaN</td>\n",
       "      <td>NaN</td>\n",
       "      <td>22964.0</td>\n",
       "    </tr>\n",
       "    <tr>\n",
       "      <th>2</th>\n",
       "      <td>1995</td>\n",
       "      <td>NaN</td>\n",
       "      <td>NaN</td>\n",
       "      <td>4.909080e+12</td>\n",
       "      <td>NaN</td>\n",
       "      <td>NaN</td>\n",
       "      <td>26.0</td>\n",
       "      <td>296.0</td>\n",
       "      <td>NaN</td>\n",
       "      <td>NaN</td>\n",
       "      <td>...</td>\n",
       "      <td>NaN</td>\n",
       "      <td>281.0</td>\n",
       "      <td>NaN</td>\n",
       "      <td>171.0</td>\n",
       "      <td>NaN</td>\n",
       "      <td>NaN</td>\n",
       "      <td>NaN</td>\n",
       "      <td>NaN</td>\n",
       "      <td>NaN</td>\n",
       "      <td>22916.0</td>\n",
       "    </tr>\n",
       "    <tr>\n",
       "      <th>3</th>\n",
       "      <td>1996</td>\n",
       "      <td>NaN</td>\n",
       "      <td>NaN</td>\n",
       "      <td>5.144841e+12</td>\n",
       "      <td>NaN</td>\n",
       "      <td>NaN</td>\n",
       "      <td>NaN</td>\n",
       "      <td>83.0</td>\n",
       "      <td>NaN</td>\n",
       "      <td>NaN</td>\n",
       "      <td>...</td>\n",
       "      <td>NaN</td>\n",
       "      <td>212.0</td>\n",
       "      <td>NaN</td>\n",
       "      <td>NaN</td>\n",
       "      <td>NaN</td>\n",
       "      <td>NaN</td>\n",
       "      <td>6.0</td>\n",
       "      <td>NaN</td>\n",
       "      <td>NaN</td>\n",
       "      <td>23858.0</td>\n",
       "    </tr>\n",
       "    <tr>\n",
       "      <th>4</th>\n",
       "      <td>1997</td>\n",
       "      <td>3.790000e+12</td>\n",
       "      <td>1.620000e+12</td>\n",
       "      <td>5.377177e+12</td>\n",
       "      <td>NaN</td>\n",
       "      <td>NaN</td>\n",
       "      <td>NaN</td>\n",
       "      <td>37.0</td>\n",
       "      <td>NaN</td>\n",
       "      <td>NaN</td>\n",
       "      <td>...</td>\n",
       "      <td>NaN</td>\n",
       "      <td>110.0</td>\n",
       "      <td>NaN</td>\n",
       "      <td>NaN</td>\n",
       "      <td>NaN</td>\n",
       "      <td>NaN</td>\n",
       "      <td>NaN</td>\n",
       "      <td>NaN</td>\n",
       "      <td>NaN</td>\n",
       "      <td>28961.0</td>\n",
       "    </tr>\n",
       "  </tbody>\n",
       "</table>\n",
       "<p>5 rows × 265 columns</p>\n",
       "</div>"
      ],
      "text/plain": [
       "   Year  Debt_Held_by_the_Public  Intragovernmental_Holdings  \\\n",
       "0  1993                      NaN                         NaN   \n",
       "1  1994                      NaN                         NaN   \n",
       "2  1995                      NaN                         NaN   \n",
       "3  1996                      NaN                         NaN   \n",
       "4  1997             3.790000e+12                1.620000e+12   \n",
       "\n",
       "   Total_Public_Debt_Outstanding  Afghanistan  African Union**  Albania  \\\n",
       "0                   4.361990e+12          NaN              NaN      NaN   \n",
       "1                   4.627610e+12          NaN              NaN      NaN   \n",
       "2                   4.909080e+12          NaN              NaN     26.0   \n",
       "3                   5.144841e+12          NaN              NaN      NaN   \n",
       "4                   5.377177e+12          NaN              NaN      NaN   \n",
       "\n",
       "   Algeria  Amal (Lebanon)*  ANC (South Africa)*  ...  Viet Minh (France)*  \\\n",
       "0     20.0              NaN                  NaN  ...                  NaN   \n",
       "1    182.0              NaN                  NaN  ...                  NaN   \n",
       "2    296.0              NaN                  NaN  ...                  NaN   \n",
       "3     83.0              NaN                  NaN  ...                  NaN   \n",
       "4     37.0              NaN                  NaN  ...                  NaN   \n",
       "\n",
       "   Viet Nam  Western Sahara  Yemen  Yemen Arab Republic  Yugoslavia  Zambia  \\\n",
       "0       NaN             NaN    NaN                  NaN         NaN     NaN   \n",
       "1       NaN             NaN    4.0                  NaN         NaN     NaN   \n",
       "2     281.0             NaN  171.0                  NaN         NaN     NaN   \n",
       "3     212.0             NaN    NaN                  NaN         NaN     6.0   \n",
       "4     110.0             NaN    NaN                  NaN         NaN     NaN   \n",
       "\n",
       "   ZAPU (Zimbabwe)*  Zimbabwe    Total  \n",
       "0               NaN       0.0  25854.0  \n",
       "1               NaN       NaN  22964.0  \n",
       "2               NaN       NaN  22916.0  \n",
       "3               NaN       NaN  23858.0  \n",
       "4               NaN       NaN  28961.0  \n",
       "\n",
       "[5 rows x 265 columns]"
      ]
     },
     "execution_count": 6,
     "metadata": {},
     "output_type": "execute_result"
    }
   ],
   "source": [
    "merged_df = pd.merge(dfDebtYearly, dfArms, how='left', on=['Year', 'Year'])\n",
    "\n",
    "merged_df.head()"
   ]
  },
  {
   "cell_type": "code",
   "execution_count": 7,
   "metadata": {
    "ExecuteTime": {
     "end_time": "2024-07-11T21:25:28.574262Z",
     "start_time": "2024-07-11T21:25:28.545183Z"
    }
   },
   "outputs": [
    {
     "data": {
      "text/html": [
       "<div>\n",
       "<style scoped>\n",
       "    .dataframe tbody tr th:only-of-type {\n",
       "        vertical-align: middle;\n",
       "    }\n",
       "\n",
       "    .dataframe tbody tr th {\n",
       "        vertical-align: top;\n",
       "    }\n",
       "\n",
       "    .dataframe thead th {\n",
       "        text-align: right;\n",
       "    }\n",
       "</style>\n",
       "<table border=\"1\" class=\"dataframe\">\n",
       "  <thead>\n",
       "    <tr style=\"text-align: right;\">\n",
       "      <th></th>\n",
       "      <th>Year</th>\n",
       "      <th>Corps of Engineers</th>\n",
       "      <th>Department of Agriculture</th>\n",
       "      <th>Department of Commerce</th>\n",
       "      <th>Department of Defense</th>\n",
       "      <th>Department of Education</th>\n",
       "      <th>Department of Energy</th>\n",
       "      <th>Department of Health and Human Services</th>\n",
       "      <th>Department of Homeland Security</th>\n",
       "      <th>Department of Housing and Urban Development</th>\n",
       "      <th>...</th>\n",
       "      <th>National Aeronautics and Space Administration</th>\n",
       "      <th>National Science Foundation</th>\n",
       "      <th>Office of Personnel Management</th>\n",
       "      <th>Other Defense Civil Programs</th>\n",
       "      <th>Other Independent Agencies (Off-Budget)</th>\n",
       "      <th>Other Independent Agencies (On-Budget)</th>\n",
       "      <th>Small Business Administration</th>\n",
       "      <th>Social Security Administration (Off-Budget)</th>\n",
       "      <th>Social Security Administration (On-Budget)</th>\n",
       "      <th>Undistributed Offsetting Receipts</th>\n",
       "    </tr>\n",
       "  </thead>\n",
       "  <tbody>\n",
       "    <tr>\n",
       "      <th>0</th>\n",
       "      <td>1976</td>\n",
       "      <td>2177</td>\n",
       "      <td>20690</td>\n",
       "      <td>1732</td>\n",
       "      <td>95503</td>\n",
       "      <td>9314</td>\n",
       "      <td>4970</td>\n",
       "      <td>40368</td>\n",
       "      <td>2423</td>\n",
       "      <td>29200</td>\n",
       "      <td>...</td>\n",
       "      <td>3552</td>\n",
       "      <td>717</td>\n",
       "      <td>8870</td>\n",
       "      <td>7390</td>\n",
       "      <td>NaN</td>\n",
       "      <td>17692</td>\n",
       "      <td>621</td>\n",
       "      <td>74019</td>\n",
       "      <td>6044</td>\n",
       "      <td>-22186</td>\n",
       "    </tr>\n",
       "    <tr>\n",
       "      <th>1</th>\n",
       "      <td>1977</td>\n",
       "      <td>2479</td>\n",
       "      <td>21841</td>\n",
       "      <td>7814</td>\n",
       "      <td>107906</td>\n",
       "      <td>10568</td>\n",
       "      <td>7021</td>\n",
       "      <td>47035</td>\n",
       "      <td>2881</td>\n",
       "      <td>33818</td>\n",
       "      <td>...</td>\n",
       "      <td>3876</td>\n",
       "      <td>783</td>\n",
       "      <td>10255</td>\n",
       "      <td>8273</td>\n",
       "      <td>NaN</td>\n",
       "      <td>8692</td>\n",
       "      <td>1068</td>\n",
       "      <td>84909</td>\n",
       "      <td>6612</td>\n",
       "      <td>-23018</td>\n",
       "    </tr>\n",
       "    <tr>\n",
       "      <th>2</th>\n",
       "      <td>1978</td>\n",
       "      <td>2781</td>\n",
       "      <td>26659</td>\n",
       "      <td>1892</td>\n",
       "      <td>114531</td>\n",
       "      <td>11625</td>\n",
       "      <td>10467</td>\n",
       "      <td>51891</td>\n",
       "      <td>3314</td>\n",
       "      <td>37994</td>\n",
       "      <td>...</td>\n",
       "      <td>4244</td>\n",
       "      <td>868</td>\n",
       "      <td>11631</td>\n",
       "      <td>9213</td>\n",
       "      <td>NaN</td>\n",
       "      <td>8981</td>\n",
       "      <td>3555</td>\n",
       "      <td>93712</td>\n",
       "      <td>5991</td>\n",
       "      <td>-24250</td>\n",
       "    </tr>\n",
       "    <tr>\n",
       "      <th>3</th>\n",
       "      <td>1979</td>\n",
       "      <td>2780</td>\n",
       "      <td>37250</td>\n",
       "      <td>2086</td>\n",
       "      <td>123595</td>\n",
       "      <td>13996</td>\n",
       "      <td>9805</td>\n",
       "      <td>59726</td>\n",
       "      <td>3969</td>\n",
       "      <td>31142</td>\n",
       "      <td>...</td>\n",
       "      <td>4743</td>\n",
       "      <td>914</td>\n",
       "      <td>13314</td>\n",
       "      <td>10319</td>\n",
       "      <td>NaN</td>\n",
       "      <td>10957</td>\n",
       "      <td>2081</td>\n",
       "      <td>104233</td>\n",
       "      <td>6266</td>\n",
       "      <td>-27428</td>\n",
       "    </tr>\n",
       "    <tr>\n",
       "      <th>4</th>\n",
       "      <td>1980</td>\n",
       "      <td>3247</td>\n",
       "      <td>39559</td>\n",
       "      <td>2610</td>\n",
       "      <td>140651</td>\n",
       "      <td>15209</td>\n",
       "      <td>10767</td>\n",
       "      <td>70002</td>\n",
       "      <td>4424</td>\n",
       "      <td>35852</td>\n",
       "      <td>...</td>\n",
       "      <td>5350</td>\n",
       "      <td>991</td>\n",
       "      <td>15711</td>\n",
       "      <td>12020</td>\n",
       "      <td>NaN</td>\n",
       "      <td>28922</td>\n",
       "      <td>2145</td>\n",
       "      <td>119278</td>\n",
       "      <td>7144</td>\n",
       "      <td>-31988</td>\n",
       "    </tr>\n",
       "  </tbody>\n",
       "</table>\n",
       "<p>5 rows × 33 columns</p>\n",
       "</div>"
      ],
      "text/plain": [
       "   Year  Corps of Engineers  Department of Agriculture  \\\n",
       "0  1976                2177                      20690   \n",
       "1  1977                2479                      21841   \n",
       "2  1978                2781                      26659   \n",
       "3  1979                2780                      37250   \n",
       "4  1980                3247                      39559   \n",
       "\n",
       "   Department of Commerce  Department of Defense  Department of Education  \\\n",
       "0                    1732                  95503                     9314   \n",
       "1                    7814                 107906                    10568   \n",
       "2                    1892                 114531                    11625   \n",
       "3                    2086                 123595                    13996   \n",
       "4                    2610                 140651                    15209   \n",
       "\n",
       "   Department of Energy  Department of Health and Human Services  \\\n",
       "0                  4970                                    40368   \n",
       "1                  7021                                    47035   \n",
       "2                 10467                                    51891   \n",
       "3                  9805                                    59726   \n",
       "4                 10767                                    70002   \n",
       "\n",
       "   Department of Homeland Security  \\\n",
       "0                             2423   \n",
       "1                             2881   \n",
       "2                             3314   \n",
       "3                             3969   \n",
       "4                             4424   \n",
       "\n",
       "   Department of Housing and Urban Development  ...  \\\n",
       "0                                        29200  ...   \n",
       "1                                        33818  ...   \n",
       "2                                        37994  ...   \n",
       "3                                        31142  ...   \n",
       "4                                        35852  ...   \n",
       "\n",
       "   National Aeronautics and Space Administration  National Science Foundation  \\\n",
       "0                                           3552                          717   \n",
       "1                                           3876                          783   \n",
       "2                                           4244                          868   \n",
       "3                                           4743                          914   \n",
       "4                                           5350                          991   \n",
       "\n",
       "   Office of Personnel Management  Other Defense Civil Programs  \\\n",
       "0                            8870                          7390   \n",
       "1                           10255                          8273   \n",
       "2                           11631                          9213   \n",
       "3                           13314                         10319   \n",
       "4                           15711                         12020   \n",
       "\n",
       "   Other Independent Agencies (Off-Budget)  \\\n",
       "0                                      NaN   \n",
       "1                                      NaN   \n",
       "2                                      NaN   \n",
       "3                                      NaN   \n",
       "4                                      NaN   \n",
       "\n",
       "   Other Independent Agencies (On-Budget)  Small Business Administration  \\\n",
       "0                                   17692                            621   \n",
       "1                                    8692                           1068   \n",
       "2                                    8981                           3555   \n",
       "3                                   10957                           2081   \n",
       "4                                   28922                           2145   \n",
       "\n",
       "   Social Security Administration (Off-Budget)  \\\n",
       "0                                        74019   \n",
       "1                                        84909   \n",
       "2                                        93712   \n",
       "3                                       104233   \n",
       "4                                       119278   \n",
       "\n",
       "   Social Security Administration (On-Budget)  \\\n",
       "0                                        6044   \n",
       "1                                        6612   \n",
       "2                                        5991   \n",
       "3                                        6266   \n",
       "4                                        7144   \n",
       "\n",
       "   Undistributed Offsetting Receipts  \n",
       "0                             -22186  \n",
       "1                             -23018  \n",
       "2                             -24250  \n",
       "3                             -27428  \n",
       "4                             -31988  \n",
       "\n",
       "[5 rows x 33 columns]"
      ]
     },
     "execution_count": 7,
     "metadata": {},
     "output_type": "execute_result"
    }
   ],
   "source": [
    "dfBudget = pd.read_csv(\"budget.csv\")\n",
    "dfBudget.head()"
   ]
  },
  {
   "cell_type": "code",
   "execution_count": 8,
   "metadata": {
    "ExecuteTime": {
     "end_time": "2024-07-11T21:25:28.605651Z",
     "start_time": "2024-07-11T21:25:28.583787Z"
    },
    "scrolled": true
   },
   "outputs": [
    {
     "data": {
      "text/plain": [
       "(31, 297)"
      ]
     },
     "execution_count": 8,
     "metadata": {},
     "output_type": "execute_result"
    }
   ],
   "source": [
    "merged_df2 = pd.merge(merged_df, dfBudget, how='left', on=['Year', 'Year'])\n",
    "\n",
    "merged_df2.shape"
   ]
  },
  {
   "cell_type": "code",
   "execution_count": 9,
   "metadata": {
    "ExecuteTime": {
     "end_time": "2024-07-11T21:25:28.699572Z",
     "start_time": "2024-07-11T21:25:28.608841Z"
    }
   },
   "outputs": [
    {
     "data": {
      "text/html": [
       "<div>\n",
       "<style scoped>\n",
       "    .dataframe tbody tr th:only-of-type {\n",
       "        vertical-align: middle;\n",
       "    }\n",
       "\n",
       "    .dataframe tbody tr th {\n",
       "        vertical-align: top;\n",
       "    }\n",
       "\n",
       "    .dataframe thead th {\n",
       "        text-align: right;\n",
       "    }\n",
       "</style>\n",
       "<table border=\"1\" class=\"dataframe\">\n",
       "  <thead>\n",
       "    <tr style=\"text-align: right;\">\n",
       "      <th></th>\n",
       "      <th>FIPS Code</th>\n",
       "      <th>StateArea</th>\n",
       "      <th>Year</th>\n",
       "      <th>Month</th>\n",
       "      <th>Total_Civilian_NonInstitutional_Population</th>\n",
       "      <th>Total_Civilian_Labor_Force</th>\n",
       "      <th>Percent_(%)_of_Population</th>\n",
       "      <th>Total_Employment</th>\n",
       "      <th>Percent_(%)_of _Labor_Force_Employed</th>\n",
       "      <th>Total_Unemployment</th>\n",
       "      <th>Percent_(%)_of _Labor_Force_Unemployed</th>\n",
       "    </tr>\n",
       "  </thead>\n",
       "  <tbody>\n",
       "    <tr>\n",
       "      <th>0</th>\n",
       "      <td>1</td>\n",
       "      <td>Alabama</td>\n",
       "      <td>1976</td>\n",
       "      <td>1</td>\n",
       "      <td>2605000.0</td>\n",
       "      <td>1484555.0</td>\n",
       "      <td>57.0</td>\n",
       "      <td>1386023.0</td>\n",
       "      <td>53.2</td>\n",
       "      <td>98532.0</td>\n",
       "      <td>6.6</td>\n",
       "    </tr>\n",
       "    <tr>\n",
       "      <th>1</th>\n",
       "      <td>2</td>\n",
       "      <td>Alaska</td>\n",
       "      <td>1976</td>\n",
       "      <td>1</td>\n",
       "      <td>232000.0</td>\n",
       "      <td>160183.0</td>\n",
       "      <td>69.0</td>\n",
       "      <td>148820.0</td>\n",
       "      <td>64.1</td>\n",
       "      <td>11363.0</td>\n",
       "      <td>7.1</td>\n",
       "    </tr>\n",
       "    <tr>\n",
       "      <th>2</th>\n",
       "      <td>4</td>\n",
       "      <td>Arizona</td>\n",
       "      <td>1976</td>\n",
       "      <td>1</td>\n",
       "      <td>1621000.0</td>\n",
       "      <td>964120.0</td>\n",
       "      <td>59.5</td>\n",
       "      <td>865871.0</td>\n",
       "      <td>53.4</td>\n",
       "      <td>98249.0</td>\n",
       "      <td>10.2</td>\n",
       "    </tr>\n",
       "    <tr>\n",
       "      <th>3</th>\n",
       "      <td>5</td>\n",
       "      <td>Arkansas</td>\n",
       "      <td>1976</td>\n",
       "      <td>1</td>\n",
       "      <td>1536000.0</td>\n",
       "      <td>889044.0</td>\n",
       "      <td>57.9</td>\n",
       "      <td>824395.0</td>\n",
       "      <td>53.7</td>\n",
       "      <td>64649.0</td>\n",
       "      <td>7.3</td>\n",
       "    </tr>\n",
       "    <tr>\n",
       "      <th>4</th>\n",
       "      <td>6</td>\n",
       "      <td>California</td>\n",
       "      <td>1976</td>\n",
       "      <td>1</td>\n",
       "      <td>15621000.0</td>\n",
       "      <td>9774280.0</td>\n",
       "      <td>62.6</td>\n",
       "      <td>8875685.0</td>\n",
       "      <td>56.8</td>\n",
       "      <td>898595.0</td>\n",
       "      <td>9.2</td>\n",
       "    </tr>\n",
       "  </tbody>\n",
       "</table>\n",
       "</div>"
      ],
      "text/plain": [
       "   FIPS Code   StateArea  Year  Month  \\\n",
       "0          1     Alabama  1976      1   \n",
       "1          2      Alaska  1976      1   \n",
       "2          4     Arizona  1976      1   \n",
       "3          5    Arkansas  1976      1   \n",
       "4          6  California  1976      1   \n",
       "\n",
       "   Total_Civilian_NonInstitutional_Population  Total_Civilian_Labor_Force  \\\n",
       "0                                   2605000.0                   1484555.0   \n",
       "1                                    232000.0                    160183.0   \n",
       "2                                   1621000.0                    964120.0   \n",
       "3                                   1536000.0                    889044.0   \n",
       "4                                  15621000.0                   9774280.0   \n",
       "\n",
       "   Percent_(%)_of_Population  Total_Employment  \\\n",
       "0                       57.0         1386023.0   \n",
       "1                       69.0          148820.0   \n",
       "2                       59.5          865871.0   \n",
       "3                       57.9          824395.0   \n",
       "4                       62.6         8875685.0   \n",
       "\n",
       "   Percent_(%)_of _Labor_Force_Employed  Total_Unemployment  \\\n",
       "0                                  53.2             98532.0   \n",
       "1                                  64.1             11363.0   \n",
       "2                                  53.4             98249.0   \n",
       "3                                  53.7             64649.0   \n",
       "4                                  56.8            898595.0   \n",
       "\n",
       "   Percent_(%)_of _Labor_Force_Unemployed  \n",
       "0                                     6.6  \n",
       "1                                     7.1  \n",
       "2                                    10.2  \n",
       "3                                     7.3  \n",
       "4                                     9.2  "
      ]
     },
     "execution_count": 9,
     "metadata": {},
     "output_type": "execute_result"
    }
   ],
   "source": [
    "dfUnEmp = pd.read_csv(\"Unemployment.csv\")\n",
    "dfUnEmp.head()"
   ]
  },
  {
   "cell_type": "code",
   "execution_count": 10,
   "metadata": {
    "ExecuteTime": {
     "end_time": "2024-07-11T21:25:28.715458Z",
     "start_time": "2024-07-11T21:25:28.701545Z"
    }
   },
   "outputs": [
    {
     "name": "stdout",
     "output_type": "stream",
     "text": [
      "Index(['FIPS Code', 'StateArea', 'Year', 'Month',\n",
      "       'Total_Civilian_NonInstitutional_Population',\n",
      "       'Total_Civilian_Labor_Force', 'Percent_(%)_of_Population',\n",
      "       'Total_Employment', 'Percent_(%)_of _Labor_Force_Employed',\n",
      "       'Total_Unemployment', 'Percent_(%)_of _Labor_Force_Unemployed'],\n",
      "      dtype='object')\n"
     ]
    }
   ],
   "source": [
    "print(dfUnEmp.columns)\n"
   ]
  },
  {
   "cell_type": "code",
   "execution_count": 11,
   "metadata": {
    "ExecuteTime": {
     "end_time": "2024-07-11T21:25:28.856923Z",
     "start_time": "2024-07-11T21:25:28.717880Z"
    }
   },
   "outputs": [
    {
     "data": {
      "text/html": [
       "<div>\n",
       "<style scoped>\n",
       "    .dataframe tbody tr th:only-of-type {\n",
       "        vertical-align: middle;\n",
       "    }\n",
       "\n",
       "    .dataframe tbody tr th {\n",
       "        vertical-align: top;\n",
       "    }\n",
       "\n",
       "    .dataframe thead th {\n",
       "        text-align: right;\n",
       "    }\n",
       "</style>\n",
       "<table border=\"1\" class=\"dataframe\">\n",
       "  <thead>\n",
       "    <tr style=\"text-align: right;\">\n",
       "      <th></th>\n",
       "      <th>YearMonth</th>\n",
       "      <th>Total_Civilian_NonInstitutional_Population</th>\n",
       "      <th>Total_Civilian_Labor_Force</th>\n",
       "      <th>Total_Employment</th>\n",
       "      <th>Percent_(%)_of _Labor_Force_Employed</th>\n",
       "      <th>Total_Unemployment</th>\n",
       "      <th>Percent_(%)_of _Labor_Force_Unemployed</th>\n",
       "    </tr>\n",
       "  </thead>\n",
       "  <tbody>\n",
       "    <tr>\n",
       "      <th>0</th>\n",
       "      <td>1976-01-01</td>\n",
       "      <td>165430000.0</td>\n",
       "      <td>101836208.0</td>\n",
       "      <td>93748772.0</td>\n",
       "      <td>92.058389</td>\n",
       "      <td>8087436.0</td>\n",
       "      <td>92.058389</td>\n",
       "    </tr>\n",
       "    <tr>\n",
       "      <th>1</th>\n",
       "      <td>1976-02-01</td>\n",
       "      <td>165694000.0</td>\n",
       "      <td>101798481.0</td>\n",
       "      <td>93714001.0</td>\n",
       "      <td>92.058349</td>\n",
       "      <td>8084480.0</td>\n",
       "      <td>92.058349</td>\n",
       "    </tr>\n",
       "    <tr>\n",
       "      <th>2</th>\n",
       "      <td>1976-03-01</td>\n",
       "      <td>165945000.0</td>\n",
       "      <td>101808529.0</td>\n",
       "      <td>93748383.0</td>\n",
       "      <td>92.083035</td>\n",
       "      <td>8060146.0</td>\n",
       "      <td>92.083035</td>\n",
       "    </tr>\n",
       "    <tr>\n",
       "      <th>3</th>\n",
       "      <td>1976-04-01</td>\n",
       "      <td>166200000.0</td>\n",
       "      <td>101966712.0</td>\n",
       "      <td>93963034.0</td>\n",
       "      <td>92.150695</td>\n",
       "      <td>8003678.0</td>\n",
       "      <td>92.150695</td>\n",
       "    </tr>\n",
       "    <tr>\n",
       "      <th>4</th>\n",
       "      <td>1976-05-01</td>\n",
       "      <td>166461000.0</td>\n",
       "      <td>102203702.0</td>\n",
       "      <td>94252804.0</td>\n",
       "      <td>92.220538</td>\n",
       "      <td>7950898.0</td>\n",
       "      <td>92.220538</td>\n",
       "    </tr>\n",
       "  </tbody>\n",
       "</table>\n",
       "</div>"
      ],
      "text/plain": [
       "   YearMonth  Total_Civilian_NonInstitutional_Population  \\\n",
       "0 1976-01-01                                 165430000.0   \n",
       "1 1976-02-01                                 165694000.0   \n",
       "2 1976-03-01                                 165945000.0   \n",
       "3 1976-04-01                                 166200000.0   \n",
       "4 1976-05-01                                 166461000.0   \n",
       "\n",
       "   Total_Civilian_Labor_Force  Total_Employment  \\\n",
       "0                 101836208.0        93748772.0   \n",
       "1                 101798481.0        93714001.0   \n",
       "2                 101808529.0        93748383.0   \n",
       "3                 101966712.0        93963034.0   \n",
       "4                 102203702.0        94252804.0   \n",
       "\n",
       "   Percent_(%)_of _Labor_Force_Employed  Total_Unemployment  \\\n",
       "0                             92.058389           8087436.0   \n",
       "1                             92.058349           8084480.0   \n",
       "2                             92.083035           8060146.0   \n",
       "3                             92.150695           8003678.0   \n",
       "4                             92.220538           7950898.0   \n",
       "\n",
       "   Percent_(%)_of _Labor_Force_Unemployed  \n",
       "0                               92.058389  \n",
       "1                               92.058349  \n",
       "2                               92.083035  \n",
       "3                               92.150695  \n",
       "4                               92.220538  "
      ]
     },
     "execution_count": 11,
     "metadata": {},
     "output_type": "execute_result"
    }
   ],
   "source": [
    "dfUnEmp2 = dfUnEmp.drop(columns=['FIPS Code', 'StateArea', 'Percent_(%)_of_Population'])\n",
    "\n",
    "dfUnEmp2['Year'] = dfUnEmp2['Year'].astype(str)\n",
    "dfUnEmp2['Month'] = dfUnEmp2['Month'].astype(str).str.zfill(2)\n",
    "dfUnEmp2['YearMonth'] = pd.to_datetime(dfUnEmp2['Year'] + '-' + dfUnEmp2['Month'])\n",
    "\n",
    "dfUnEmpMonth = dfUnEmp2.groupby('YearMonth').sum().reset_index()\n",
    "\n",
    "dfUnEmpMonth['Percent_(%)_of _Labor_Force_Employed'] = (dfUnEmpMonth['Total_Employment'] / dfUnEmpMonth['Total_Civilian_Labor_Force']) * 100\n",
    "dfUnEmpMonth['Percent_(%)_of _Labor_Force_Unemployed'] = (dfUnEmpMonth['Total_Employment'] / dfUnEmpMonth['Total_Civilian_Labor_Force']) * 100\n",
    "\n",
    "dfUnEmpMonth.head()"
   ]
  },
  {
   "cell_type": "code",
   "execution_count": 12,
   "metadata": {
    "ExecuteTime": {
     "end_time": "2024-07-11T21:25:28.872362Z",
     "start_time": "2024-07-11T21:25:28.860440Z"
    }
   },
   "outputs": [],
   "source": [
    "#dfUnEmpYear = dfUnEmp2.groupby('Year').sum().reset_index()\n",
    "\n",
    "#dfUnEmpYear['Percent_(%)_of _Labor_Force_Employed'] = (dfUnEmpYear['Total_Employment'] / dfUnEmpYear['Total_Civilian_Labor_Force']) * 100\n",
    "#dfUnEmpYear['Percent_(%)_of _Labor_Force_Unemployed'] = (dfUnEmpYear['Total_Employment'] / dfUnEmpYear['Total_Civilian_Labor_Force']) * 100\n",
    "\n",
    "#dfUnEmpYear.head()"
   ]
  },
  {
   "cell_type": "code",
   "execution_count": 13,
   "metadata": {
    "ExecuteTime": {
     "end_time": "2024-07-11T21:25:28.888337Z",
     "start_time": "2024-07-11T21:25:28.875917Z"
    }
   },
   "outputs": [],
   "source": [
    "#merged_df2['Year'] = merged_df2['Year'].astype(int)\n",
    "#dfUnEmpYear['Year'] = dfUnEmpYear['Year'].astype(int)\n",
    "\n",
    "#merged_df3 = pd.merge(merged_df2, dfUnEmpYear, how='left', on='Year')\n",
    "\n",
    "#merged_df3.tail(30)"
   ]
  },
  {
   "cell_type": "code",
   "execution_count": 14,
   "metadata": {
    "ExecuteTime": {
     "end_time": "2024-07-11T21:25:32.723882Z",
     "start_time": "2024-07-11T21:25:28.893488Z"
    }
   },
   "outputs": [
    {
     "name": "stderr",
     "output_type": "stream",
     "text": [
      "C:\\Users\\student\\anaconda3\\lib\\site-packages\\IPython\\core\\interactiveshell.py:3185: DtypeWarning: Columns (4,31,33,54,61,62,63,76,79,90,92,94,96,114,115,121) have mixed types.Specify dtype option on import or set low_memory=False.\n",
      "  has_raised = await self.run_ast_nodes(code_ast.body, cell_name,\n"
     ]
    },
    {
     "data": {
      "text/html": [
       "<div>\n",
       "<style scoped>\n",
       "    .dataframe tbody tr th:only-of-type {\n",
       "        vertical-align: middle;\n",
       "    }\n",
       "\n",
       "    .dataframe tbody tr th {\n",
       "        vertical-align: top;\n",
       "    }\n",
       "\n",
       "    .dataframe thead th {\n",
       "        text-align: right;\n",
       "    }\n",
       "</style>\n",
       "<table border=\"1\" class=\"dataframe\">\n",
       "  <thead>\n",
       "    <tr style=\"text-align: right;\">\n",
       "      <th></th>\n",
       "      <th>eventid</th>\n",
       "      <th>iyear</th>\n",
       "      <th>imonth</th>\n",
       "      <th>iday</th>\n",
       "      <th>approxdate</th>\n",
       "      <th>extended</th>\n",
       "      <th>resolution</th>\n",
       "      <th>country</th>\n",
       "      <th>country_txt</th>\n",
       "      <th>region</th>\n",
       "      <th>...</th>\n",
       "      <th>addnotes</th>\n",
       "      <th>scite1</th>\n",
       "      <th>scite2</th>\n",
       "      <th>scite3</th>\n",
       "      <th>dbsource</th>\n",
       "      <th>INT_LOG</th>\n",
       "      <th>INT_IDEO</th>\n",
       "      <th>INT_MISC</th>\n",
       "      <th>INT_ANY</th>\n",
       "      <th>related</th>\n",
       "    </tr>\n",
       "  </thead>\n",
       "  <tbody>\n",
       "    <tr>\n",
       "      <th>0</th>\n",
       "      <td>197000000001</td>\n",
       "      <td>1970</td>\n",
       "      <td>7</td>\n",
       "      <td>2</td>\n",
       "      <td>NaN</td>\n",
       "      <td>0</td>\n",
       "      <td>NaN</td>\n",
       "      <td>58</td>\n",
       "      <td>Dominican Republic</td>\n",
       "      <td>2</td>\n",
       "      <td>...</td>\n",
       "      <td>NaN</td>\n",
       "      <td>NaN</td>\n",
       "      <td>NaN</td>\n",
       "      <td>NaN</td>\n",
       "      <td>PGIS</td>\n",
       "      <td>0</td>\n",
       "      <td>0</td>\n",
       "      <td>0</td>\n",
       "      <td>0</td>\n",
       "      <td>NaN</td>\n",
       "    </tr>\n",
       "    <tr>\n",
       "      <th>1</th>\n",
       "      <td>197000000002</td>\n",
       "      <td>1970</td>\n",
       "      <td>0</td>\n",
       "      <td>0</td>\n",
       "      <td>NaN</td>\n",
       "      <td>0</td>\n",
       "      <td>NaN</td>\n",
       "      <td>130</td>\n",
       "      <td>Mexico</td>\n",
       "      <td>1</td>\n",
       "      <td>...</td>\n",
       "      <td>NaN</td>\n",
       "      <td>NaN</td>\n",
       "      <td>NaN</td>\n",
       "      <td>NaN</td>\n",
       "      <td>PGIS</td>\n",
       "      <td>0</td>\n",
       "      <td>1</td>\n",
       "      <td>1</td>\n",
       "      <td>1</td>\n",
       "      <td>NaN</td>\n",
       "    </tr>\n",
       "  </tbody>\n",
       "</table>\n",
       "<p>2 rows × 135 columns</p>\n",
       "</div>"
      ],
      "text/plain": [
       "        eventid  iyear  imonth  iday approxdate  extended resolution  country  \\\n",
       "0  197000000001   1970       7     2        NaN         0        NaN       58   \n",
       "1  197000000002   1970       0     0        NaN         0        NaN      130   \n",
       "\n",
       "          country_txt  region  ... addnotes scite1 scite2  scite3  dbsource  \\\n",
       "0  Dominican Republic       2  ...      NaN    NaN    NaN     NaN      PGIS   \n",
       "1              Mexico       1  ...      NaN    NaN    NaN     NaN      PGIS   \n",
       "\n",
       "   INT_LOG  INT_IDEO INT_MISC INT_ANY  related  \n",
       "0        0         0        0       0      NaN  \n",
       "1        0         1        1       1      NaN  \n",
       "\n",
       "[2 rows x 135 columns]"
      ]
     },
     "execution_count": 14,
     "metadata": {},
     "output_type": "execute_result"
    }
   ],
   "source": [
    "dfGTD = pd.read_csv(\"Terror2020.csv\")\n",
    "dfGTD.head(2)"
   ]
  },
  {
   "cell_type": "code",
   "execution_count": 15,
   "metadata": {
    "ExecuteTime": {
     "end_time": "2024-07-11T21:25:32.739805Z",
     "start_time": "2024-07-11T21:25:32.725879Z"
    },
    "scrolled": true
   },
   "outputs": [
    {
     "data": {
      "text/plain": [
       "(209706, 135)"
      ]
     },
     "execution_count": 15,
     "metadata": {},
     "output_type": "execute_result"
    }
   ],
   "source": [
    "dfGTD.shape"
   ]
  },
  {
   "cell_type": "code",
   "execution_count": 16,
   "metadata": {
    "ExecuteTime": {
     "end_time": "2024-07-11T21:25:32.973083Z",
     "start_time": "2024-07-11T21:25:32.742969Z"
    },
    "tags": []
   },
   "outputs": [
    {
     "name": "stderr",
     "output_type": "stream",
     "text": [
      "C:\\Users\\student\\anaconda3\\lib\\site-packages\\IPython\\core\\interactiveshell.py:3185: DtypeWarning: Columns (79,114,115) have mixed types.Specify dtype option on import or set low_memory=False.\n",
      "  has_raised = await self.run_ast_nodes(code_ast.body, cell_name,\n"
     ]
    },
    {
     "data": {
      "text/html": [
       "<div>\n",
       "<style scoped>\n",
       "    .dataframe tbody tr th:only-of-type {\n",
       "        vertical-align: middle;\n",
       "    }\n",
       "\n",
       "    .dataframe tbody tr th {\n",
       "        vertical-align: top;\n",
       "    }\n",
       "\n",
       "    .dataframe thead th {\n",
       "        text-align: right;\n",
       "    }\n",
       "</style>\n",
       "<table border=\"1\" class=\"dataframe\">\n",
       "  <thead>\n",
       "    <tr style=\"text-align: right;\">\n",
       "      <th></th>\n",
       "      <th>eventid</th>\n",
       "      <th>iyear</th>\n",
       "      <th>imonth</th>\n",
       "      <th>iday</th>\n",
       "      <th>approxdate</th>\n",
       "      <th>extended</th>\n",
       "      <th>resolution</th>\n",
       "      <th>country</th>\n",
       "      <th>country_txt</th>\n",
       "      <th>region</th>\n",
       "      <th>...</th>\n",
       "      <th>addnotes</th>\n",
       "      <th>scite1</th>\n",
       "      <th>scite2</th>\n",
       "      <th>scite3</th>\n",
       "      <th>dbsource</th>\n",
       "      <th>INT_LOG</th>\n",
       "      <th>INT_IDEO</th>\n",
       "      <th>INT_MISC</th>\n",
       "      <th>INT_ANY</th>\n",
       "      <th>related</th>\n",
       "    </tr>\n",
       "  </thead>\n",
       "  <tbody>\n",
       "    <tr>\n",
       "      <th>0</th>\n",
       "      <td>202101010004</td>\n",
       "      <td>2021</td>\n",
       "      <td>1</td>\n",
       "      <td>1</td>\n",
       "      <td>NaN</td>\n",
       "      <td>0</td>\n",
       "      <td>NaN</td>\n",
       "      <td>60</td>\n",
       "      <td>Egypt</td>\n",
       "      <td>10</td>\n",
       "      <td>...</td>\n",
       "      <td>NaN</td>\n",
       "      <td>\"Egyptian officials: Roadside bombing in Sinai...</td>\n",
       "      <td>NaN</td>\n",
       "      <td>NaN</td>\n",
       "      <td>START Primary Collection</td>\n",
       "      <td>-9</td>\n",
       "      <td>-9</td>\n",
       "      <td>0</td>\n",
       "      <td>-9</td>\n",
       "      <td>NaN</td>\n",
       "    </tr>\n",
       "    <tr>\n",
       "      <th>1</th>\n",
       "      <td>202101010005</td>\n",
       "      <td>2021</td>\n",
       "      <td>1</td>\n",
       "      <td>1</td>\n",
       "      <td>01/01/2021</td>\n",
       "      <td>0</td>\n",
       "      <td>NaN</td>\n",
       "      <td>92</td>\n",
       "      <td>India</td>\n",
       "      <td>6</td>\n",
       "      <td>...</td>\n",
       "      <td>NaN</td>\n",
       "      <td>\"Terror module busted, seven arrested in J&amp;K,\"...</td>\n",
       "      <td>\"Militants throw grenade on CRPF,\" HT Syndicat...</td>\n",
       "      <td>NaN</td>\n",
       "      <td>START Primary Collection</td>\n",
       "      <td>-9</td>\n",
       "      <td>-9</td>\n",
       "      <td>0</td>\n",
       "      <td>-9</td>\n",
       "      <td>NaN</td>\n",
       "    </tr>\n",
       "  </tbody>\n",
       "</table>\n",
       "<p>2 rows × 135 columns</p>\n",
       "</div>"
      ],
      "text/plain": [
       "        eventid  iyear  imonth  iday  approxdate  extended resolution  \\\n",
       "0  202101010004   2021       1     1         NaN         0        NaN   \n",
       "1  202101010005   2021       1     1  01/01/2021         0        NaN   \n",
       "\n",
       "   country country_txt  region  ... addnotes  \\\n",
       "0       60       Egypt      10  ...      NaN   \n",
       "1       92       India       6  ...      NaN   \n",
       "\n",
       "                                              scite1  \\\n",
       "0  \"Egyptian officials: Roadside bombing in Sinai...   \n",
       "1  \"Terror module busted, seven arrested in J&K,\"...   \n",
       "\n",
       "                                              scite2  scite3  \\\n",
       "0                                                NaN     NaN   \n",
       "1  \"Militants throw grenade on CRPF,\" HT Syndicat...     NaN   \n",
       "\n",
       "                   dbsource  INT_LOG  INT_IDEO INT_MISC INT_ANY  related  \n",
       "0  START Primary Collection       -9        -9        0      -9      NaN  \n",
       "1  START Primary Collection       -9        -9        0      -9      NaN  \n",
       "\n",
       "[2 rows x 135 columns]"
      ]
     },
     "execution_count": 16,
     "metadata": {},
     "output_type": "execute_result"
    }
   ],
   "source": [
    "dfGTD3 = pd.read_csv(\"Terror21.csv\")\n",
    "dfGTD3.head(2)"
   ]
  },
  {
   "cell_type": "code",
   "execution_count": 17,
   "metadata": {
    "ExecuteTime": {
     "end_time": "2024-07-11T21:25:32.988581Z",
     "start_time": "2024-07-11T21:25:32.975234Z"
    },
    "tags": []
   },
   "outputs": [
    {
     "data": {
      "text/plain": [
       "(4960, 135)"
      ]
     },
     "execution_count": 17,
     "metadata": {},
     "output_type": "execute_result"
    }
   ],
   "source": [
    "dfGTD3.shape"
   ]
  },
  {
   "cell_type": "code",
   "execution_count": 18,
   "metadata": {
    "ExecuteTime": {
     "end_time": "2024-07-11T21:25:33.876834Z",
     "start_time": "2024-07-11T21:25:32.993001Z"
    },
    "tags": []
   },
   "outputs": [
    {
     "data": {
      "text/plain": [
       "(214666, 135)"
      ]
     },
     "execution_count": 18,
     "metadata": {},
     "output_type": "execute_result"
    }
   ],
   "source": [
    "dfGTD1 = pd.concat([dfGTD, dfGTD3], ignore_index=True)\n",
    "dfGTD1.shape"
   ]
  },
  {
   "cell_type": "code",
   "execution_count": 40,
   "metadata": {
    "ExecuteTime": {
     "end_time": "2024-07-11T21:27:46.385368Z",
     "start_time": "2024-07-11T21:27:46.306393Z"
    },
    "tags": []
   },
   "outputs": [],
   "source": [
    "dfGTD1=dfGTD"
   ]
  },
  {
   "cell_type": "code",
   "execution_count": 41,
   "metadata": {
    "ExecuteTime": {
     "end_time": "2024-07-11T21:27:46.994327Z",
     "start_time": "2024-07-11T21:27:46.985837Z"
    }
   },
   "outputs": [
    {
     "name": "stdout",
     "output_type": "stream",
     "text": [
      "Index(['eventid', 'iyear', 'imonth', 'iday', 'approxdate', 'extended',\n",
      "       'resolution', 'country', 'country_txt', 'region',\n",
      "       ...\n",
      "       'addnotes', 'scite1', 'scite2', 'scite3', 'dbsource', 'INT_LOG',\n",
      "       'INT_IDEO', 'INT_MISC', 'INT_ANY', 'related'],\n",
      "      dtype='object', length=135)\n"
     ]
    }
   ],
   "source": [
    "print(dfGTD1.columns)"
   ]
  },
  {
   "cell_type": "code",
   "execution_count": 42,
   "metadata": {
    "ExecuteTime": {
     "end_time": "2024-07-11T21:27:47.838585Z",
     "start_time": "2024-07-11T21:27:47.707379Z"
    }
   },
   "outputs": [
    {
     "data": {
      "text/html": [
       "<div>\n",
       "<style scoped>\n",
       "    .dataframe tbody tr th:only-of-type {\n",
       "        vertical-align: middle;\n",
       "    }\n",
       "\n",
       "    .dataframe tbody tr th {\n",
       "        vertical-align: top;\n",
       "    }\n",
       "\n",
       "    .dataframe thead th {\n",
       "        text-align: right;\n",
       "    }\n",
       "</style>\n",
       "<table border=\"1\" class=\"dataframe\">\n",
       "  <thead>\n",
       "    <tr style=\"text-align: right;\">\n",
       "      <th></th>\n",
       "      <th>eventid</th>\n",
       "      <th>iyear</th>\n",
       "      <th>imonth</th>\n",
       "      <th>iday</th>\n",
       "      <th>extended</th>\n",
       "      <th>country</th>\n",
       "      <th>country_txt</th>\n",
       "      <th>region</th>\n",
       "      <th>region_txt</th>\n",
       "      <th>provstate</th>\n",
       "      <th>...</th>\n",
       "      <th>nreleased</th>\n",
       "      <th>addnotes</th>\n",
       "      <th>scite1</th>\n",
       "      <th>scite2</th>\n",
       "      <th>scite3</th>\n",
       "      <th>dbsource</th>\n",
       "      <th>INT_LOG</th>\n",
       "      <th>INT_IDEO</th>\n",
       "      <th>INT_MISC</th>\n",
       "      <th>INT_ANY</th>\n",
       "    </tr>\n",
       "  </thead>\n",
       "  <tbody>\n",
       "    <tr>\n",
       "      <th>0</th>\n",
       "      <td>197000000001</td>\n",
       "      <td>1970</td>\n",
       "      <td>7</td>\n",
       "      <td>2</td>\n",
       "      <td>0</td>\n",
       "      <td>58</td>\n",
       "      <td>Dominican Republic</td>\n",
       "      <td>2</td>\n",
       "      <td>Central America &amp; Caribbean</td>\n",
       "      <td>National</td>\n",
       "      <td>...</td>\n",
       "      <td>NaN</td>\n",
       "      <td>NaN</td>\n",
       "      <td>NaN</td>\n",
       "      <td>NaN</td>\n",
       "      <td>NaN</td>\n",
       "      <td>PGIS</td>\n",
       "      <td>0</td>\n",
       "      <td>0</td>\n",
       "      <td>0</td>\n",
       "      <td>0</td>\n",
       "    </tr>\n",
       "    <tr>\n",
       "      <th>1</th>\n",
       "      <td>197000000002</td>\n",
       "      <td>1970</td>\n",
       "      <td>0</td>\n",
       "      <td>0</td>\n",
       "      <td>0</td>\n",
       "      <td>130</td>\n",
       "      <td>Mexico</td>\n",
       "      <td>1</td>\n",
       "      <td>North America</td>\n",
       "      <td>Federal</td>\n",
       "      <td>...</td>\n",
       "      <td>NaN</td>\n",
       "      <td>NaN</td>\n",
       "      <td>NaN</td>\n",
       "      <td>NaN</td>\n",
       "      <td>NaN</td>\n",
       "      <td>PGIS</td>\n",
       "      <td>0</td>\n",
       "      <td>1</td>\n",
       "      <td>1</td>\n",
       "      <td>1</td>\n",
       "    </tr>\n",
       "    <tr>\n",
       "      <th>2</th>\n",
       "      <td>197001000001</td>\n",
       "      <td>1970</td>\n",
       "      <td>1</td>\n",
       "      <td>0</td>\n",
       "      <td>0</td>\n",
       "      <td>160</td>\n",
       "      <td>Philippines</td>\n",
       "      <td>5</td>\n",
       "      <td>Southeast Asia</td>\n",
       "      <td>Tarlac</td>\n",
       "      <td>...</td>\n",
       "      <td>NaN</td>\n",
       "      <td>NaN</td>\n",
       "      <td>NaN</td>\n",
       "      <td>NaN</td>\n",
       "      <td>NaN</td>\n",
       "      <td>PGIS</td>\n",
       "      <td>-9</td>\n",
       "      <td>-9</td>\n",
       "      <td>1</td>\n",
       "      <td>1</td>\n",
       "    </tr>\n",
       "    <tr>\n",
       "      <th>3</th>\n",
       "      <td>197001000002</td>\n",
       "      <td>1970</td>\n",
       "      <td>1</td>\n",
       "      <td>0</td>\n",
       "      <td>0</td>\n",
       "      <td>78</td>\n",
       "      <td>Greece</td>\n",
       "      <td>8</td>\n",
       "      <td>Western Europe</td>\n",
       "      <td>Attica</td>\n",
       "      <td>...</td>\n",
       "      <td>NaN</td>\n",
       "      <td>NaN</td>\n",
       "      <td>NaN</td>\n",
       "      <td>NaN</td>\n",
       "      <td>NaN</td>\n",
       "      <td>PGIS</td>\n",
       "      <td>-9</td>\n",
       "      <td>-9</td>\n",
       "      <td>1</td>\n",
       "      <td>1</td>\n",
       "    </tr>\n",
       "    <tr>\n",
       "      <th>4</th>\n",
       "      <td>197001000003</td>\n",
       "      <td>1970</td>\n",
       "      <td>1</td>\n",
       "      <td>0</td>\n",
       "      <td>0</td>\n",
       "      <td>101</td>\n",
       "      <td>Japan</td>\n",
       "      <td>4</td>\n",
       "      <td>East Asia</td>\n",
       "      <td>Fukouka</td>\n",
       "      <td>...</td>\n",
       "      <td>NaN</td>\n",
       "      <td>NaN</td>\n",
       "      <td>NaN</td>\n",
       "      <td>NaN</td>\n",
       "      <td>NaN</td>\n",
       "      <td>PGIS</td>\n",
       "      <td>-9</td>\n",
       "      <td>-9</td>\n",
       "      <td>1</td>\n",
       "      <td>1</td>\n",
       "    </tr>\n",
       "  </tbody>\n",
       "</table>\n",
       "<p>5 rows × 84 columns</p>\n",
       "</div>"
      ],
      "text/plain": [
       "        eventid  iyear  imonth  iday  extended  country         country_txt  \\\n",
       "0  197000000001   1970       7     2         0       58  Dominican Republic   \n",
       "1  197000000002   1970       0     0         0      130              Mexico   \n",
       "2  197001000001   1970       1     0         0      160         Philippines   \n",
       "3  197001000002   1970       1     0         0       78              Greece   \n",
       "4  197001000003   1970       1     0         0      101               Japan   \n",
       "\n",
       "   region                   region_txt provstate  ... nreleased  addnotes  \\\n",
       "0       2  Central America & Caribbean  National  ...       NaN       NaN   \n",
       "1       1                North America   Federal  ...       NaN       NaN   \n",
       "2       5               Southeast Asia    Tarlac  ...       NaN       NaN   \n",
       "3       8               Western Europe    Attica  ...       NaN       NaN   \n",
       "4       4                    East Asia   Fukouka  ...       NaN       NaN   \n",
       "\n",
       "   scite1  scite2  scite3 dbsource INT_LOG  INT_IDEO  INT_MISC  INT_ANY  \n",
       "0     NaN     NaN     NaN     PGIS       0         0         0        0  \n",
       "1     NaN     NaN     NaN     PGIS       0         1         1        1  \n",
       "2     NaN     NaN     NaN     PGIS      -9        -9         1        1  \n",
       "3     NaN     NaN     NaN     PGIS      -9        -9         1        1  \n",
       "4     NaN     NaN     NaN     PGIS      -9        -9         1        1  \n",
       "\n",
       "[5 rows x 84 columns]"
      ]
     },
     "execution_count": 42,
     "metadata": {},
     "output_type": "execute_result"
    }
   ],
   "source": [
    "dfGTD2 = dfGTD1.drop(columns=['resolution','approxdate','attacktype2_txt','attacktype3','attacktype3_txt','targtype2','targtype2_txt','targsubtype2','targsubtype2_txt'\n",
    ",'corp2','target2','natlty2','natlty2_txt','targtype3','targtype3_txt','targsubtype3','targsubtype3_txt','corp3','target3'\n",
    ",'natlty3','natlty3_txt','gname2','gsubname2','gname3','gsubname3','guncertain2','guncertain3'\n",
    ",'claimmode','claimmode_txt','claim2','claimmode2','claimmode2_txt','claim3','claimmode3','claimmode3_txt','weaptype2'\n",
    ",'weaptype2_txt','weaptype3','weaptype3_txt','weaptype4','weaptype4_txt','weapsubtype4'\n",
    ",'weapsubtype4_txt','nhostkid','nhostkidus','ndays','divert','kidhijcountry'\n",
    ",'ransomamtus','ransompaidus','related'])\n",
    "dfGTD2.head()"
   ]
  },
  {
   "cell_type": "code",
   "execution_count": 43,
   "metadata": {
    "ExecuteTime": {
     "end_time": "2024-07-11T21:27:49.184531Z",
     "start_time": "2024-07-11T21:27:49.168055Z"
    }
   },
   "outputs": [
    {
     "data": {
      "text/plain": [
       "(209706, 84)"
      ]
     },
     "execution_count": 43,
     "metadata": {},
     "output_type": "execute_result"
    }
   ],
   "source": [
    "dfGTD2.shape"
   ]
  },
  {
   "cell_type": "code",
   "execution_count": 44,
   "metadata": {
    "ExecuteTime": {
     "end_time": "2024-07-11T21:27:50.073998Z",
     "start_time": "2024-07-11T21:27:50.044485Z"
    }
   },
   "outputs": [
    {
     "data": {
      "text/plain": [
       "(3121, 84)"
      ]
     },
     "execution_count": 44,
     "metadata": {},
     "output_type": "execute_result"
    }
   ],
   "source": [
    "dfUS = dfGTD2[dfGTD2['country_txt'] == 'United States']\n",
    "dfUS.shape"
   ]
  },
  {
   "cell_type": "code",
   "execution_count": 45,
   "metadata": {
    "ExecuteTime": {
     "end_time": "2024-07-11T21:27:52.640163Z",
     "start_time": "2024-07-11T21:27:52.610466Z"
    }
   },
   "outputs": [
    {
     "name": "stdout",
     "output_type": "stream",
     "text": [
      "         eventid  iyear  imonth  iday  extended  country    country_txt  \\\n",
      "5   197001010002   1970       1     1         0      217  United States   \n",
      "7   197001020002   1970       1     2         0      217  United States   \n",
      "8   197001020003   1970       1     2         0      217  United States   \n",
      "9   197001030001   1970       1     3         0      217  United States   \n",
      "10  197001050001   1970       1     1         0      217  United States   \n",
      "\n",
      "    region     region_txt   provstate  ...  \\\n",
      "5        1  North America    Illinois  ...   \n",
      "7        1  North America  California  ...   \n",
      "8        1  North America   Wisconsin  ...   \n",
      "9        1  North America   Wisconsin  ...   \n",
      "10       1  North America   Wisconsin  ...   \n",
      "\n",
      "                                             addnotes  \\\n",
      "5   The Cairo Chief of Police, William Petersen, r...   \n",
      "7   Damages were estimated to be between $20,000-$...   \n",
      "8   The New Years Gang issue a communiqué to a loc...   \n",
      "9   Karl Armstrong's girlfriend, Lynn Schultz, dro...   \n",
      "10                                                NaN   \n",
      "\n",
      "                                               scite1  \\\n",
      "5   \"Police Chief Quits,\" Washington Post, January...   \n",
      "7   Committee on Government Operations United Stat...   \n",
      "8   Tom Bates, \"Rads: The 1970 Bombing of the Army...   \n",
      "9   Committee on Government Operations United Stat...   \n",
      "10                                                NaN   \n",
      "\n",
      "                                               scite2  \\\n",
      "5   \"Cairo Police Chief Quits; Decries Local 'Mili...   \n",
      "7   Christopher Hewitt, \"Political Violence and Te...   \n",
      "8   David Newman, Sandra Sutherland, and Jon Stewa...   \n",
      "9   Tom Bates, \"Rads: The 1970 Bombing of the Army...   \n",
      "10                                                NaN   \n",
      "\n",
      "                                               scite3        dbsource INT_LOG  \\\n",
      "5   Christopher Hewitt, \"Political Violence and Te...  Hewitt Project      -9   \n",
      "7                                                 NaN  Hewitt Project      -9   \n",
      "8   The Wisconsin Cartographers' Guild, \"Wisconsin...  Hewitt Project       0   \n",
      "9   David Newman, Sandra Sutherland, and Jon Stewa...  Hewitt Project       0   \n",
      "10                                                NaN            PGIS       0   \n",
      "\n",
      "   INT_IDEO  INT_MISC  INT_ANY  North  \n",
      "5        -9         0       -9      0  \n",
      "7        -9         0       -9      0  \n",
      "8         0         0        0      1  \n",
      "9         0         0        0      1  \n",
      "10        0         0        0      1  \n",
      "\n",
      "[5 rows x 85 columns]\n"
     ]
    },
    {
     "name": "stderr",
     "output_type": "stream",
     "text": [
      "C:\\Users\\student\\AppData\\Local\\Temp/ipykernel_12688/212925860.py:7: SettingWithCopyWarning:\n",
      "\n",
      "\n",
      "A value is trying to be set on a copy of a slice from a DataFrame.\n",
      "Try using .loc[row_indexer,col_indexer] = value instead\n",
      "\n",
      "See the caveats in the documentation: https://pandas.pydata.org/pandas-docs/stable/user_guide/indexing.html#returning-a-view-versus-a-copy\n",
      "\n"
     ]
    }
   ],
   "source": [
    "import pandas as pd\n",
    "\n",
    "# Assuming dfUS is already defined and contains the relevant data\n",
    "# dfUS = pd.read_csv(\"path_to_your_us_data.csv\")\n",
    "\n",
    "# Add the 'North' column based on the 'Latitude' column\n",
    "dfUS['North'] = dfUS['latitude'].apply(lambda x: 1 if x >= 38.9072 else 0)\n",
    "\n",
    "# Display the first few rows of the dataframe to confirm the changes\n",
    "print(dfUS.head())"
   ]
  },
  {
   "cell_type": "code",
   "execution_count": 46,
   "metadata": {
    "ExecuteTime": {
     "end_time": "2024-07-11T21:27:53.542832Z",
     "start_time": "2024-07-11T21:27:53.465088Z"
    }
   },
   "outputs": [
    {
     "name": "stdout",
     "output_type": "stream",
     "text": [
      "       casualties  north  south\n",
      "0             0-5   1556   1475\n",
      "1            5-10     16     19\n",
      "2           10-15      7      7\n",
      "3           15-20      5      3\n",
      "4           20-25      3      2\n",
      "...           ...    ...    ...\n",
      "2449  12245-12250      0      0\n",
      "2450  12250-12255      0      0\n",
      "2451  12255-12260      0      0\n",
      "2452  12260-12265      2      0\n",
      "2453  12265-12270      0      0\n",
      "\n",
      "[2454 rows x 3 columns]\n"
     ]
    },
    {
     "name": "stderr",
     "output_type": "stream",
     "text": [
      "C:\\Users\\student\\AppData\\Local\\Temp/ipykernel_12688/4169448280.py:5: SettingWithCopyWarning:\n",
      "\n",
      "\n",
      "A value is trying to be set on a copy of a slice from a DataFrame.\n",
      "Try using .loc[row_indexer,col_indexer] = value instead\n",
      "\n",
      "See the caveats in the documentation: https://pandas.pydata.org/pandas-docs/stable/user_guide/indexing.html#returning-a-view-versus-a-copy\n",
      "\n",
      "C:\\Users\\student\\AppData\\Local\\Temp/ipykernel_12688/4169448280.py:12: SettingWithCopyWarning:\n",
      "\n",
      "\n",
      "A value is trying to be set on a copy of a slice from a DataFrame.\n",
      "Try using .loc[row_indexer,col_indexer] = value instead\n",
      "\n",
      "See the caveats in the documentation: https://pandas.pydata.org/pandas-docs/stable/user_guide/indexing.html#returning-a-view-versus-a-copy\n",
      "\n"
     ]
    }
   ],
   "source": [
    "import pandas as pd\n",
    "import numpy as np\n",
    "\n",
    "# Step 1: Create the 'casualties' column\n",
    "dfUS['casualties'] = dfUS['nkill'].fillna(0) + dfUS['nwound'].fillna(0)\n",
    "\n",
    "# Step 2: Define bin edges and labels\n",
    "bin_edges = np.arange(0, dfUS['casualties'].max() + 10, 5)\n",
    "bin_labels = [f\"{int(edge)}-{int(edge+5)}\" for edge in bin_edges[:-1]]\n",
    "\n",
    "# Step 3: Digitize the casualties into bins\n",
    "dfUS['casualty_bin'] = pd.cut(dfUS['casualties'], bins=bin_edges, labels=bin_labels, include_lowest=True)\n",
    "\n",
    "# Step 4: Count instances per bin for North and South\n",
    "north_counts = dfUS[dfUS['North'] == 1]['casualty_bin'].value_counts().sort_index()\n",
    "south_counts = dfUS[dfUS['North'] == 0]['casualty_bin'].value_counts().sort_index()\n",
    "\n",
    "# Ensure both counts have the same index for combining into dfPyramid\n",
    "all_bins = north_counts.index.union(south_counts.index).sort_values()\n",
    "north_counts = north_counts.reindex(all_bins, fill_value=0)\n",
    "south_counts = south_counts.reindex(all_bins, fill_value=0)\n",
    "\n",
    "# Step 5: Create the dfPyramid DataFrame\n",
    "dfPyramid = pd.DataFrame({\n",
    "    'casualties': all_bins,\n",
    "    'north': north_counts.values,\n",
    "    'south': south_counts.values\n",
    "})\n",
    "\n",
    "# Display the resulting DataFrame\n",
    "print(dfPyramid)"
   ]
  },
  {
   "cell_type": "code",
   "execution_count": 47,
   "metadata": {
    "ExecuteTime": {
     "end_time": "2024-07-11T21:27:54.431235Z",
     "start_time": "2024-07-11T21:27:54.410044Z"
    }
   },
   "outputs": [
    {
     "name": "stdout",
     "output_type": "stream",
     "text": [
      "       casualties  north  south\n",
      "1            5-10     16     19\n",
      "2           10-15      7      7\n",
      "3           15-20      5      3\n",
      "4           20-25      3      2\n",
      "5           25-30      1      3\n",
      "6           30-35      1      2\n",
      "7           35-40      2      1\n",
      "8           40-45      0      1\n",
      "9           45-50      0      1\n",
      "10          50-55      1      1\n",
      "11          55-60      1      0\n",
      "15          75-80      0      2\n",
      "16          80-85      1      0\n",
      "20        100-105      0      1\n",
      "26        130-135      2      0\n",
      "33        165-170      0      1\n",
      "59        295-300      0      1\n",
      "150       750-755      1      0\n",
      "163       815-820      0      1\n",
      "181       905-910      0      1\n",
      "2452  12260-12265      2      0\n"
     ]
    }
   ],
   "source": [
    "# Step 6: Drop the first bin (0-5)\n",
    "dfPyramid = dfPyramid[dfPyramid['casualties'] != '0-5']\n",
    "\n",
    "# Step 7: Drop bins with 0s in both north and south\n",
    "dfPyramid = dfPyramid[~((dfPyramid['north'] == 0) & (dfPyramid['south'] == 0))]\n",
    "\n",
    "# Display the filtered DataFrame\n",
    "print(dfPyramid)\n"
   ]
  },
  {
   "cell_type": "code",
   "execution_count": 48,
   "metadata": {
    "ExecuteTime": {
     "end_time": "2024-07-11T21:27:55.199027Z",
     "start_time": "2024-07-11T21:27:55.176188Z"
    },
    "scrolled": true
   },
   "outputs": [
    {
     "data": {
      "application/vnd.plotly.v1+json": {
       "config": {
        "plotlyServerURL": "https://plot.ly"
       },
       "data": [
        {
         "name": "North",
         "orientation": "h",
         "type": "bar",
         "x": [
          16,
          7,
          5,
          3,
          1,
          1,
          2,
          0,
          0,
          1,
          1,
          0,
          1,
          0,
          2,
          0,
          0,
          1,
          0,
          0,
          2
         ],
         "y": [
          "5-10",
          "10-15",
          "15-20",
          "20-25",
          "25-30",
          "30-35",
          "35-40",
          "40-45",
          "45-50",
          "50-55",
          "55-60",
          "75-80",
          "80-85",
          "100-105",
          "130-135",
          "165-170",
          "295-300",
          "750-755",
          "815-820",
          "905-910",
          "12260-12265"
         ]
        },
        {
         "name": "South",
         "orientation": "h",
         "type": "bar",
         "x": [
          -19,
          -7,
          -3,
          -2,
          -3,
          -2,
          -1,
          -1,
          -1,
          -1,
          0,
          -2,
          0,
          -1,
          0,
          -1,
          -1,
          0,
          -1,
          -1,
          0
         ],
         "y": [
          "5-10",
          "10-15",
          "15-20",
          "20-25",
          "25-30",
          "30-35",
          "35-40",
          "40-45",
          "45-50",
          "50-55",
          "55-60",
          "75-80",
          "80-85",
          "100-105",
          "130-135",
          "165-170",
          "295-300",
          "750-755",
          "815-820",
          "905-910",
          "12260-12265"
         ]
        }
       ],
       "layout": {
        "bargap": 0,
        "barmode": "relative",
        "template": {
         "data": {
          "bar": [
           {
            "error_x": {
             "color": "#2a3f5f"
            },
            "error_y": {
             "color": "#2a3f5f"
            },
            "marker": {
             "line": {
              "color": "#E5ECF6",
              "width": 0.5
             },
             "pattern": {
              "fillmode": "overlay",
              "size": 10,
              "solidity": 0.2
             }
            },
            "type": "bar"
           }
          ],
          "barpolar": [
           {
            "marker": {
             "line": {
              "color": "#E5ECF6",
              "width": 0.5
             },
             "pattern": {
              "fillmode": "overlay",
              "size": 10,
              "solidity": 0.2
             }
            },
            "type": "barpolar"
           }
          ],
          "carpet": [
           {
            "aaxis": {
             "endlinecolor": "#2a3f5f",
             "gridcolor": "white",
             "linecolor": "white",
             "minorgridcolor": "white",
             "startlinecolor": "#2a3f5f"
            },
            "baxis": {
             "endlinecolor": "#2a3f5f",
             "gridcolor": "white",
             "linecolor": "white",
             "minorgridcolor": "white",
             "startlinecolor": "#2a3f5f"
            },
            "type": "carpet"
           }
          ],
          "choropleth": [
           {
            "colorbar": {
             "outlinewidth": 0,
             "ticks": ""
            },
            "type": "choropleth"
           }
          ],
          "contour": [
           {
            "colorbar": {
             "outlinewidth": 0,
             "ticks": ""
            },
            "colorscale": [
             [
              0,
              "#0d0887"
             ],
             [
              0.1111111111111111,
              "#46039f"
             ],
             [
              0.2222222222222222,
              "#7201a8"
             ],
             [
              0.3333333333333333,
              "#9c179e"
             ],
             [
              0.4444444444444444,
              "#bd3786"
             ],
             [
              0.5555555555555556,
              "#d8576b"
             ],
             [
              0.6666666666666666,
              "#ed7953"
             ],
             [
              0.7777777777777778,
              "#fb9f3a"
             ],
             [
              0.8888888888888888,
              "#fdca26"
             ],
             [
              1,
              "#f0f921"
             ]
            ],
            "type": "contour"
           }
          ],
          "contourcarpet": [
           {
            "colorbar": {
             "outlinewidth": 0,
             "ticks": ""
            },
            "type": "contourcarpet"
           }
          ],
          "heatmap": [
           {
            "colorbar": {
             "outlinewidth": 0,
             "ticks": ""
            },
            "colorscale": [
             [
              0,
              "#0d0887"
             ],
             [
              0.1111111111111111,
              "#46039f"
             ],
             [
              0.2222222222222222,
              "#7201a8"
             ],
             [
              0.3333333333333333,
              "#9c179e"
             ],
             [
              0.4444444444444444,
              "#bd3786"
             ],
             [
              0.5555555555555556,
              "#d8576b"
             ],
             [
              0.6666666666666666,
              "#ed7953"
             ],
             [
              0.7777777777777778,
              "#fb9f3a"
             ],
             [
              0.8888888888888888,
              "#fdca26"
             ],
             [
              1,
              "#f0f921"
             ]
            ],
            "type": "heatmap"
           }
          ],
          "heatmapgl": [
           {
            "colorbar": {
             "outlinewidth": 0,
             "ticks": ""
            },
            "colorscale": [
             [
              0,
              "#0d0887"
             ],
             [
              0.1111111111111111,
              "#46039f"
             ],
             [
              0.2222222222222222,
              "#7201a8"
             ],
             [
              0.3333333333333333,
              "#9c179e"
             ],
             [
              0.4444444444444444,
              "#bd3786"
             ],
             [
              0.5555555555555556,
              "#d8576b"
             ],
             [
              0.6666666666666666,
              "#ed7953"
             ],
             [
              0.7777777777777778,
              "#fb9f3a"
             ],
             [
              0.8888888888888888,
              "#fdca26"
             ],
             [
              1,
              "#f0f921"
             ]
            ],
            "type": "heatmapgl"
           }
          ],
          "histogram": [
           {
            "marker": {
             "pattern": {
              "fillmode": "overlay",
              "size": 10,
              "solidity": 0.2
             }
            },
            "type": "histogram"
           }
          ],
          "histogram2d": [
           {
            "colorbar": {
             "outlinewidth": 0,
             "ticks": ""
            },
            "colorscale": [
             [
              0,
              "#0d0887"
             ],
             [
              0.1111111111111111,
              "#46039f"
             ],
             [
              0.2222222222222222,
              "#7201a8"
             ],
             [
              0.3333333333333333,
              "#9c179e"
             ],
             [
              0.4444444444444444,
              "#bd3786"
             ],
             [
              0.5555555555555556,
              "#d8576b"
             ],
             [
              0.6666666666666666,
              "#ed7953"
             ],
             [
              0.7777777777777778,
              "#fb9f3a"
             ],
             [
              0.8888888888888888,
              "#fdca26"
             ],
             [
              1,
              "#f0f921"
             ]
            ],
            "type": "histogram2d"
           }
          ],
          "histogram2dcontour": [
           {
            "colorbar": {
             "outlinewidth": 0,
             "ticks": ""
            },
            "colorscale": [
             [
              0,
              "#0d0887"
             ],
             [
              0.1111111111111111,
              "#46039f"
             ],
             [
              0.2222222222222222,
              "#7201a8"
             ],
             [
              0.3333333333333333,
              "#9c179e"
             ],
             [
              0.4444444444444444,
              "#bd3786"
             ],
             [
              0.5555555555555556,
              "#d8576b"
             ],
             [
              0.6666666666666666,
              "#ed7953"
             ],
             [
              0.7777777777777778,
              "#fb9f3a"
             ],
             [
              0.8888888888888888,
              "#fdca26"
             ],
             [
              1,
              "#f0f921"
             ]
            ],
            "type": "histogram2dcontour"
           }
          ],
          "mesh3d": [
           {
            "colorbar": {
             "outlinewidth": 0,
             "ticks": ""
            },
            "type": "mesh3d"
           }
          ],
          "parcoords": [
           {
            "line": {
             "colorbar": {
              "outlinewidth": 0,
              "ticks": ""
             }
            },
            "type": "parcoords"
           }
          ],
          "pie": [
           {
            "automargin": true,
            "type": "pie"
           }
          ],
          "scatter": [
           {
            "fillpattern": {
             "fillmode": "overlay",
             "size": 10,
             "solidity": 0.2
            },
            "type": "scatter"
           }
          ],
          "scatter3d": [
           {
            "line": {
             "colorbar": {
              "outlinewidth": 0,
              "ticks": ""
             }
            },
            "marker": {
             "colorbar": {
              "outlinewidth": 0,
              "ticks": ""
             }
            },
            "type": "scatter3d"
           }
          ],
          "scattercarpet": [
           {
            "marker": {
             "colorbar": {
              "outlinewidth": 0,
              "ticks": ""
             }
            },
            "type": "scattercarpet"
           }
          ],
          "scattergeo": [
           {
            "marker": {
             "colorbar": {
              "outlinewidth": 0,
              "ticks": ""
             }
            },
            "type": "scattergeo"
           }
          ],
          "scattergl": [
           {
            "marker": {
             "colorbar": {
              "outlinewidth": 0,
              "ticks": ""
             }
            },
            "type": "scattergl"
           }
          ],
          "scattermapbox": [
           {
            "marker": {
             "colorbar": {
              "outlinewidth": 0,
              "ticks": ""
             }
            },
            "type": "scattermapbox"
           }
          ],
          "scatterpolar": [
           {
            "marker": {
             "colorbar": {
              "outlinewidth": 0,
              "ticks": ""
             }
            },
            "type": "scatterpolar"
           }
          ],
          "scatterpolargl": [
           {
            "marker": {
             "colorbar": {
              "outlinewidth": 0,
              "ticks": ""
             }
            },
            "type": "scatterpolargl"
           }
          ],
          "scatterternary": [
           {
            "marker": {
             "colorbar": {
              "outlinewidth": 0,
              "ticks": ""
             }
            },
            "type": "scatterternary"
           }
          ],
          "surface": [
           {
            "colorbar": {
             "outlinewidth": 0,
             "ticks": ""
            },
            "colorscale": [
             [
              0,
              "#0d0887"
             ],
             [
              0.1111111111111111,
              "#46039f"
             ],
             [
              0.2222222222222222,
              "#7201a8"
             ],
             [
              0.3333333333333333,
              "#9c179e"
             ],
             [
              0.4444444444444444,
              "#bd3786"
             ],
             [
              0.5555555555555556,
              "#d8576b"
             ],
             [
              0.6666666666666666,
              "#ed7953"
             ],
             [
              0.7777777777777778,
              "#fb9f3a"
             ],
             [
              0.8888888888888888,
              "#fdca26"
             ],
             [
              1,
              "#f0f921"
             ]
            ],
            "type": "surface"
           }
          ],
          "table": [
           {
            "cells": {
             "fill": {
              "color": "#EBF0F8"
             },
             "line": {
              "color": "white"
             }
            },
            "header": {
             "fill": {
              "color": "#C8D4E3"
             },
             "line": {
              "color": "white"
             }
            },
            "type": "table"
           }
          ]
         },
         "layout": {
          "annotationdefaults": {
           "arrowcolor": "#2a3f5f",
           "arrowhead": 0,
           "arrowwidth": 1
          },
          "autotypenumbers": "strict",
          "coloraxis": {
           "colorbar": {
            "outlinewidth": 0,
            "ticks": ""
           }
          },
          "colorscale": {
           "diverging": [
            [
             0,
             "#8e0152"
            ],
            [
             0.1,
             "#c51b7d"
            ],
            [
             0.2,
             "#de77ae"
            ],
            [
             0.3,
             "#f1b6da"
            ],
            [
             0.4,
             "#fde0ef"
            ],
            [
             0.5,
             "#f7f7f7"
            ],
            [
             0.6,
             "#e6f5d0"
            ],
            [
             0.7,
             "#b8e186"
            ],
            [
             0.8,
             "#7fbc41"
            ],
            [
             0.9,
             "#4d9221"
            ],
            [
             1,
             "#276419"
            ]
           ],
           "sequential": [
            [
             0,
             "#0d0887"
            ],
            [
             0.1111111111111111,
             "#46039f"
            ],
            [
             0.2222222222222222,
             "#7201a8"
            ],
            [
             0.3333333333333333,
             "#9c179e"
            ],
            [
             0.4444444444444444,
             "#bd3786"
            ],
            [
             0.5555555555555556,
             "#d8576b"
            ],
            [
             0.6666666666666666,
             "#ed7953"
            ],
            [
             0.7777777777777778,
             "#fb9f3a"
            ],
            [
             0.8888888888888888,
             "#fdca26"
            ],
            [
             1,
             "#f0f921"
            ]
           ],
           "sequentialminus": [
            [
             0,
             "#0d0887"
            ],
            [
             0.1111111111111111,
             "#46039f"
            ],
            [
             0.2222222222222222,
             "#7201a8"
            ],
            [
             0.3333333333333333,
             "#9c179e"
            ],
            [
             0.4444444444444444,
             "#bd3786"
            ],
            [
             0.5555555555555556,
             "#d8576b"
            ],
            [
             0.6666666666666666,
             "#ed7953"
            ],
            [
             0.7777777777777778,
             "#fb9f3a"
            ],
            [
             0.8888888888888888,
             "#fdca26"
            ],
            [
             1,
             "#f0f921"
            ]
           ]
          },
          "colorway": [
           "#636efa",
           "#EF553B",
           "#00cc96",
           "#ab63fa",
           "#FFA15A",
           "#19d3f3",
           "#FF6692",
           "#B6E880",
           "#FF97FF",
           "#FECB52"
          ],
          "font": {
           "color": "#2a3f5f"
          },
          "geo": {
           "bgcolor": "white",
           "lakecolor": "white",
           "landcolor": "#E5ECF6",
           "showlakes": true,
           "showland": true,
           "subunitcolor": "white"
          },
          "hoverlabel": {
           "align": "left"
          },
          "hovermode": "closest",
          "mapbox": {
           "style": "light"
          },
          "paper_bgcolor": "white",
          "plot_bgcolor": "#E5ECF6",
          "polar": {
           "angularaxis": {
            "gridcolor": "white",
            "linecolor": "white",
            "ticks": ""
           },
           "bgcolor": "#E5ECF6",
           "radialaxis": {
            "gridcolor": "white",
            "linecolor": "white",
            "ticks": ""
           }
          },
          "scene": {
           "xaxis": {
            "backgroundcolor": "#E5ECF6",
            "gridcolor": "white",
            "gridwidth": 2,
            "linecolor": "white",
            "showbackground": true,
            "ticks": "",
            "zerolinecolor": "white"
           },
           "yaxis": {
            "backgroundcolor": "#E5ECF6",
            "gridcolor": "white",
            "gridwidth": 2,
            "linecolor": "white",
            "showbackground": true,
            "ticks": "",
            "zerolinecolor": "white"
           },
           "zaxis": {
            "backgroundcolor": "#E5ECF6",
            "gridcolor": "white",
            "gridwidth": 2,
            "linecolor": "white",
            "showbackground": true,
            "ticks": "",
            "zerolinecolor": "white"
           }
          },
          "shapedefaults": {
           "line": {
            "color": "#2a3f5f"
           }
          },
          "ternary": {
           "aaxis": {
            "gridcolor": "white",
            "linecolor": "white",
            "ticks": ""
           },
           "baxis": {
            "gridcolor": "white",
            "linecolor": "white",
            "ticks": ""
           },
           "bgcolor": "#E5ECF6",
           "caxis": {
            "gridcolor": "white",
            "linecolor": "white",
            "ticks": ""
           }
          },
          "title": {
           "x": 0.05
          },
          "xaxis": {
           "automargin": true,
           "gridcolor": "white",
           "linecolor": "white",
           "ticks": "",
           "title": {
            "standoff": 15
           },
           "zerolinecolor": "white",
           "zerolinewidth": 2
          },
          "yaxis": {
           "automargin": true,
           "gridcolor": "white",
           "linecolor": "white",
           "ticks": "",
           "title": {
            "standoff": 15
           },
           "zerolinecolor": "white",
           "zerolinewidth": 2
          }
         }
        },
        "title": {
         "font": {
          "size": 22
         },
         "text": "Count of Casualties"
        }
       }
      },
      "text/html": [
       "<div>                            <div id=\"ec69beac-9627-438c-84c8-015f0e5c39de\" class=\"plotly-graph-div\" style=\"height:525px; width:100%;\"></div>            <script type=\"text/javascript\">                require([\"plotly\"], function(Plotly) {                    window.PLOTLYENV=window.PLOTLYENV || {};                                    if (document.getElementById(\"ec69beac-9627-438c-84c8-015f0e5c39de\")) {                    Plotly.newPlot(                        \"ec69beac-9627-438c-84c8-015f0e5c39de\",                        [{\"name\":\"North\",\"orientation\":\"h\",\"x\":[16,7,5,3,1,1,2,0,0,1,1,0,1,0,2,0,0,1,0,0,2],\"y\":[\"5-10\",\"10-15\",\"15-20\",\"20-25\",\"25-30\",\"30-35\",\"35-40\",\"40-45\",\"45-50\",\"50-55\",\"55-60\",\"75-80\",\"80-85\",\"100-105\",\"130-135\",\"165-170\",\"295-300\",\"750-755\",\"815-820\",\"905-910\",\"12260-12265\"],\"type\":\"bar\"},{\"name\":\"South\",\"orientation\":\"h\",\"x\":[-19,-7,-3,-2,-3,-2,-1,-1,-1,-1,0,-2,0,-1,0,-1,-1,0,-1,-1,0],\"y\":[\"5-10\",\"10-15\",\"15-20\",\"20-25\",\"25-30\",\"30-35\",\"35-40\",\"40-45\",\"45-50\",\"50-55\",\"55-60\",\"75-80\",\"80-85\",\"100-105\",\"130-135\",\"165-170\",\"295-300\",\"750-755\",\"815-820\",\"905-910\",\"12260-12265\"],\"type\":\"bar\"}],                        {\"template\":{\"data\":{\"histogram2dcontour\":[{\"type\":\"histogram2dcontour\",\"colorbar\":{\"outlinewidth\":0,\"ticks\":\"\"},\"colorscale\":[[0.0,\"#0d0887\"],[0.1111111111111111,\"#46039f\"],[0.2222222222222222,\"#7201a8\"],[0.3333333333333333,\"#9c179e\"],[0.4444444444444444,\"#bd3786\"],[0.5555555555555556,\"#d8576b\"],[0.6666666666666666,\"#ed7953\"],[0.7777777777777778,\"#fb9f3a\"],[0.8888888888888888,\"#fdca26\"],[1.0,\"#f0f921\"]]}],\"choropleth\":[{\"type\":\"choropleth\",\"colorbar\":{\"outlinewidth\":0,\"ticks\":\"\"}}],\"histogram2d\":[{\"type\":\"histogram2d\",\"colorbar\":{\"outlinewidth\":0,\"ticks\":\"\"},\"colorscale\":[[0.0,\"#0d0887\"],[0.1111111111111111,\"#46039f\"],[0.2222222222222222,\"#7201a8\"],[0.3333333333333333,\"#9c179e\"],[0.4444444444444444,\"#bd3786\"],[0.5555555555555556,\"#d8576b\"],[0.6666666666666666,\"#ed7953\"],[0.7777777777777778,\"#fb9f3a\"],[0.8888888888888888,\"#fdca26\"],[1.0,\"#f0f921\"]]}],\"heatmap\":[{\"type\":\"heatmap\",\"colorbar\":{\"outlinewidth\":0,\"ticks\":\"\"},\"colorscale\":[[0.0,\"#0d0887\"],[0.1111111111111111,\"#46039f\"],[0.2222222222222222,\"#7201a8\"],[0.3333333333333333,\"#9c179e\"],[0.4444444444444444,\"#bd3786\"],[0.5555555555555556,\"#d8576b\"],[0.6666666666666666,\"#ed7953\"],[0.7777777777777778,\"#fb9f3a\"],[0.8888888888888888,\"#fdca26\"],[1.0,\"#f0f921\"]]}],\"heatmapgl\":[{\"type\":\"heatmapgl\",\"colorbar\":{\"outlinewidth\":0,\"ticks\":\"\"},\"colorscale\":[[0.0,\"#0d0887\"],[0.1111111111111111,\"#46039f\"],[0.2222222222222222,\"#7201a8\"],[0.3333333333333333,\"#9c179e\"],[0.4444444444444444,\"#bd3786\"],[0.5555555555555556,\"#d8576b\"],[0.6666666666666666,\"#ed7953\"],[0.7777777777777778,\"#fb9f3a\"],[0.8888888888888888,\"#fdca26\"],[1.0,\"#f0f921\"]]}],\"contourcarpet\":[{\"type\":\"contourcarpet\",\"colorbar\":{\"outlinewidth\":0,\"ticks\":\"\"}}],\"contour\":[{\"type\":\"contour\",\"colorbar\":{\"outlinewidth\":0,\"ticks\":\"\"},\"colorscale\":[[0.0,\"#0d0887\"],[0.1111111111111111,\"#46039f\"],[0.2222222222222222,\"#7201a8\"],[0.3333333333333333,\"#9c179e\"],[0.4444444444444444,\"#bd3786\"],[0.5555555555555556,\"#d8576b\"],[0.6666666666666666,\"#ed7953\"],[0.7777777777777778,\"#fb9f3a\"],[0.8888888888888888,\"#fdca26\"],[1.0,\"#f0f921\"]]}],\"surface\":[{\"type\":\"surface\",\"colorbar\":{\"outlinewidth\":0,\"ticks\":\"\"},\"colorscale\":[[0.0,\"#0d0887\"],[0.1111111111111111,\"#46039f\"],[0.2222222222222222,\"#7201a8\"],[0.3333333333333333,\"#9c179e\"],[0.4444444444444444,\"#bd3786\"],[0.5555555555555556,\"#d8576b\"],[0.6666666666666666,\"#ed7953\"],[0.7777777777777778,\"#fb9f3a\"],[0.8888888888888888,\"#fdca26\"],[1.0,\"#f0f921\"]]}],\"mesh3d\":[{\"type\":\"mesh3d\",\"colorbar\":{\"outlinewidth\":0,\"ticks\":\"\"}}],\"scatter\":[{\"fillpattern\":{\"fillmode\":\"overlay\",\"size\":10,\"solidity\":0.2},\"type\":\"scatter\"}],\"parcoords\":[{\"type\":\"parcoords\",\"line\":{\"colorbar\":{\"outlinewidth\":0,\"ticks\":\"\"}}}],\"scatterpolargl\":[{\"type\":\"scatterpolargl\",\"marker\":{\"colorbar\":{\"outlinewidth\":0,\"ticks\":\"\"}}}],\"bar\":[{\"error_x\":{\"color\":\"#2a3f5f\"},\"error_y\":{\"color\":\"#2a3f5f\"},\"marker\":{\"line\":{\"color\":\"#E5ECF6\",\"width\":0.5},\"pattern\":{\"fillmode\":\"overlay\",\"size\":10,\"solidity\":0.2}},\"type\":\"bar\"}],\"scattergeo\":[{\"type\":\"scattergeo\",\"marker\":{\"colorbar\":{\"outlinewidth\":0,\"ticks\":\"\"}}}],\"scatterpolar\":[{\"type\":\"scatterpolar\",\"marker\":{\"colorbar\":{\"outlinewidth\":0,\"ticks\":\"\"}}}],\"histogram\":[{\"marker\":{\"pattern\":{\"fillmode\":\"overlay\",\"size\":10,\"solidity\":0.2}},\"type\":\"histogram\"}],\"scattergl\":[{\"type\":\"scattergl\",\"marker\":{\"colorbar\":{\"outlinewidth\":0,\"ticks\":\"\"}}}],\"scatter3d\":[{\"type\":\"scatter3d\",\"line\":{\"colorbar\":{\"outlinewidth\":0,\"ticks\":\"\"}},\"marker\":{\"colorbar\":{\"outlinewidth\":0,\"ticks\":\"\"}}}],\"scattermapbox\":[{\"type\":\"scattermapbox\",\"marker\":{\"colorbar\":{\"outlinewidth\":0,\"ticks\":\"\"}}}],\"scatterternary\":[{\"type\":\"scatterternary\",\"marker\":{\"colorbar\":{\"outlinewidth\":0,\"ticks\":\"\"}}}],\"scattercarpet\":[{\"type\":\"scattercarpet\",\"marker\":{\"colorbar\":{\"outlinewidth\":0,\"ticks\":\"\"}}}],\"carpet\":[{\"aaxis\":{\"endlinecolor\":\"#2a3f5f\",\"gridcolor\":\"white\",\"linecolor\":\"white\",\"minorgridcolor\":\"white\",\"startlinecolor\":\"#2a3f5f\"},\"baxis\":{\"endlinecolor\":\"#2a3f5f\",\"gridcolor\":\"white\",\"linecolor\":\"white\",\"minorgridcolor\":\"white\",\"startlinecolor\":\"#2a3f5f\"},\"type\":\"carpet\"}],\"table\":[{\"cells\":{\"fill\":{\"color\":\"#EBF0F8\"},\"line\":{\"color\":\"white\"}},\"header\":{\"fill\":{\"color\":\"#C8D4E3\"},\"line\":{\"color\":\"white\"}},\"type\":\"table\"}],\"barpolar\":[{\"marker\":{\"line\":{\"color\":\"#E5ECF6\",\"width\":0.5},\"pattern\":{\"fillmode\":\"overlay\",\"size\":10,\"solidity\":0.2}},\"type\":\"barpolar\"}],\"pie\":[{\"automargin\":true,\"type\":\"pie\"}]},\"layout\":{\"autotypenumbers\":\"strict\",\"colorway\":[\"#636efa\",\"#EF553B\",\"#00cc96\",\"#ab63fa\",\"#FFA15A\",\"#19d3f3\",\"#FF6692\",\"#B6E880\",\"#FF97FF\",\"#FECB52\"],\"font\":{\"color\":\"#2a3f5f\"},\"hovermode\":\"closest\",\"hoverlabel\":{\"align\":\"left\"},\"paper_bgcolor\":\"white\",\"plot_bgcolor\":\"#E5ECF6\",\"polar\":{\"bgcolor\":\"#E5ECF6\",\"angularaxis\":{\"gridcolor\":\"white\",\"linecolor\":\"white\",\"ticks\":\"\"},\"radialaxis\":{\"gridcolor\":\"white\",\"linecolor\":\"white\",\"ticks\":\"\"}},\"ternary\":{\"bgcolor\":\"#E5ECF6\",\"aaxis\":{\"gridcolor\":\"white\",\"linecolor\":\"white\",\"ticks\":\"\"},\"baxis\":{\"gridcolor\":\"white\",\"linecolor\":\"white\",\"ticks\":\"\"},\"caxis\":{\"gridcolor\":\"white\",\"linecolor\":\"white\",\"ticks\":\"\"}},\"coloraxis\":{\"colorbar\":{\"outlinewidth\":0,\"ticks\":\"\"}},\"colorscale\":{\"sequential\":[[0.0,\"#0d0887\"],[0.1111111111111111,\"#46039f\"],[0.2222222222222222,\"#7201a8\"],[0.3333333333333333,\"#9c179e\"],[0.4444444444444444,\"#bd3786\"],[0.5555555555555556,\"#d8576b\"],[0.6666666666666666,\"#ed7953\"],[0.7777777777777778,\"#fb9f3a\"],[0.8888888888888888,\"#fdca26\"],[1.0,\"#f0f921\"]],\"sequentialminus\":[[0.0,\"#0d0887\"],[0.1111111111111111,\"#46039f\"],[0.2222222222222222,\"#7201a8\"],[0.3333333333333333,\"#9c179e\"],[0.4444444444444444,\"#bd3786\"],[0.5555555555555556,\"#d8576b\"],[0.6666666666666666,\"#ed7953\"],[0.7777777777777778,\"#fb9f3a\"],[0.8888888888888888,\"#fdca26\"],[1.0,\"#f0f921\"]],\"diverging\":[[0,\"#8e0152\"],[0.1,\"#c51b7d\"],[0.2,\"#de77ae\"],[0.3,\"#f1b6da\"],[0.4,\"#fde0ef\"],[0.5,\"#f7f7f7\"],[0.6,\"#e6f5d0\"],[0.7,\"#b8e186\"],[0.8,\"#7fbc41\"],[0.9,\"#4d9221\"],[1,\"#276419\"]]},\"xaxis\":{\"gridcolor\":\"white\",\"linecolor\":\"white\",\"ticks\":\"\",\"title\":{\"standoff\":15},\"zerolinecolor\":\"white\",\"automargin\":true,\"zerolinewidth\":2},\"yaxis\":{\"gridcolor\":\"white\",\"linecolor\":\"white\",\"ticks\":\"\",\"title\":{\"standoff\":15},\"zerolinecolor\":\"white\",\"automargin\":true,\"zerolinewidth\":2},\"scene\":{\"xaxis\":{\"backgroundcolor\":\"#E5ECF6\",\"gridcolor\":\"white\",\"linecolor\":\"white\",\"showbackground\":true,\"ticks\":\"\",\"zerolinecolor\":\"white\",\"gridwidth\":2},\"yaxis\":{\"backgroundcolor\":\"#E5ECF6\",\"gridcolor\":\"white\",\"linecolor\":\"white\",\"showbackground\":true,\"ticks\":\"\",\"zerolinecolor\":\"white\",\"gridwidth\":2},\"zaxis\":{\"backgroundcolor\":\"#E5ECF6\",\"gridcolor\":\"white\",\"linecolor\":\"white\",\"showbackground\":true,\"ticks\":\"\",\"zerolinecolor\":\"white\",\"gridwidth\":2}},\"shapedefaults\":{\"line\":{\"color\":\"#2a3f5f\"}},\"annotationdefaults\":{\"arrowcolor\":\"#2a3f5f\",\"arrowhead\":0,\"arrowwidth\":1},\"geo\":{\"bgcolor\":\"white\",\"landcolor\":\"#E5ECF6\",\"subunitcolor\":\"white\",\"showland\":true,\"showlakes\":true,\"lakecolor\":\"white\"},\"title\":{\"x\":0.05},\"mapbox\":{\"style\":\"light\"}}},\"title\":{\"text\":\"Count of Casualties\",\"font\":{\"size\":22}},\"barmode\":\"relative\",\"bargap\":0.0},                        {\"responsive\": true}                    ).then(function(){\n",
       "                            \n",
       "var gd = document.getElementById('ec69beac-9627-438c-84c8-015f0e5c39de');\n",
       "var x = new MutationObserver(function (mutations, observer) {{\n",
       "        var display = window.getComputedStyle(gd).display;\n",
       "        if (!display || display === 'none') {{\n",
       "            console.log([gd, 'removed!']);\n",
       "            Plotly.purge(gd);\n",
       "            observer.disconnect();\n",
       "        }}\n",
       "}});\n",
       "\n",
       "// Listen for the removal of the full notebook cells\n",
       "var notebookContainer = gd.closest('#notebook-container');\n",
       "if (notebookContainer) {{\n",
       "    x.observe(notebookContainer, {childList: true});\n",
       "}}\n",
       "\n",
       "// Listen for the clearing of the current output cell\n",
       "var outputEl = gd.closest('.output');\n",
       "if (outputEl) {{\n",
       "    x.observe(outputEl, {childList: true});\n",
       "}}\n",
       "\n",
       "                        })                };                });            </script>        </div>"
      ]
     },
     "metadata": {},
     "output_type": "display_data"
    }
   ],
   "source": [
    "import plotly.graph_objects as gp\n",
    "y_cas = dfPyramid['casualties'] \n",
    "x_N = dfPyramid['north'] \n",
    "x_S = dfPyramid['south'] * -1\n",
    "\n",
    "# Creating instance of the figure \n",
    "fig = gp.Figure() \n",
    "\n",
    "# Adding Male data to the figure \n",
    "fig.add_trace(gp.Bar(y= y_cas, x = x_N, name = 'North', orientation = 'h')) \n",
    "\n",
    "# Adding Female data to the figure \n",
    "fig.add_trace(gp.Bar(y = y_cas, x = x_S, name = 'South', orientation = 'h')) \n",
    "\n",
    "# Updating the layout for our graph \n",
    "fig.update_layout(title = 'Count of Casualties', title_font_size = 22, barmode = 'relative', bargap = 0.0 ) \n",
    "\n",
    "fig.show()\n"
   ]
  },
  {
   "cell_type": "code",
   "execution_count": 49,
   "metadata": {
    "ExecuteTime": {
     "end_time": "2024-07-11T21:28:04.114696Z",
     "start_time": "2024-07-11T21:27:56.279403Z"
    }
   },
   "outputs": [],
   "source": [
    "dfUS_cleaned = dfUS.dropna(subset=[\"longitude\", \"latitude\"])\n",
    "\n",
    "m = folium.Map(location=[37.6872, -97.3301], zoom_start=4)\n",
    "\n",
    "for i in range(len(dfUS_cleaned)):\n",
    "    folium.Marker(\n",
    "        location=[dfUS_cleaned.iloc[i]['latitude'], dfUS_cleaned.iloc[i]['longitude']],\n",
    "        icon=folium.Icon(color=\"blue\")\n",
    "    ).add_to(m)\n",
    "\n",
    "#display(m)"
   ]
  },
  {
   "cell_type": "code",
   "execution_count": 56,
   "metadata": {
    "ExecuteTime": {
     "end_time": "2024-07-11T21:29:40.422322Z",
     "start_time": "2024-07-11T21:29:18.550743Z"
    }
   },
   "outputs": [],
   "source": [
    "dfUS_cleaned = dfUS.dropna(subset=[\"longitude\", \"latitude\"])\n",
    "\n",
    "color_mapping = {\n",
    "    6: 'green',\n",
    "    8: 'red',\n",
    "    5: 'black'\n",
    "}\n",
    "\n",
    "default_color = 'blue'\n",
    "\n",
    "m = folium.Map(location=[37.6872, -97.3301], zoom_start=3.4)\n",
    "\n",
    "for i in range(len(dfUS_cleaned)):\n",
    "    lat = dfUS_cleaned.iloc[i]['latitude']\n",
    "    lon = dfUS_cleaned.iloc[i]['longitude']\n",
    "    weaptype1 = dfUS_cleaned.iloc[i]['weaptype1']\n",
    "    year = dfUS_cleaned.iloc[i]['iyear']\n",
    "    attacktype = dfUS_cleaned.iloc[i]['attacktype1_txt']\n",
    "    \n",
    "    color = color_mapping.get(weaptype1, default_color)\n",
    "    \n",
    "    popup_info = f\"Year: {year}<br>Attack Type: {attacktype}\"\n",
    "    \n",
    "    folium.Marker(\n",
    "        location=[lat, lon],\n",
    "        popup=popup_info,\n",
    "        icon=folium.Icon(color=color)\n",
    "    ).add_to(m)\n",
    "\n",
    "#display(m)"
   ]
  },
  {
   "cell_type": "code",
   "execution_count": 51,
   "metadata": {
    "ExecuteTime": {
     "end_time": "2024-07-11T21:28:31.360616Z",
     "start_time": "2024-07-11T21:28:31.327613Z"
    }
   },
   "outputs": [
    {
     "name": "stderr",
     "output_type": "stream",
     "text": [
      "C:\\Users\\student\\AppData\\Local\\Temp/ipykernel_12688/763070726.py:2: SettingWithCopyWarning:\n",
      "\n",
      "\n",
      "A value is trying to be set on a copy of a slice from a DataFrame.\n",
      "Try using .loc[row_indexer,col_indexer] = value instead\n",
      "\n",
      "See the caveats in the documentation: https://pandas.pydata.org/pandas-docs/stable/user_guide/indexing.html#returning-a-view-versus-a-copy\n",
      "\n"
     ]
    }
   ],
   "source": [
    "df_filtered = dfUS[(dfUS['iyear'] >= 2017) & (dfUS['iyear'] != 2021)]\n",
    "df_filtered['casualties'] = dfUS['nkill'].fillna(0) + dfUS['nwound'].fillna(0)\n",
    "df_filtered = df_filtered.dropna(subset=[\"casualties\"])\n",
    "df_filtered = df_filtered[(df_filtered['iyear'] != 2000) & (df_filtered['imonth'] != 9) & (df_filtered['iday'] != 11)]\n",
    "df_filtered =df_filtered[df_filtered['eventid'] != 201710010018]\n",
    "\n",
    "\n",
    "# Step 2: Group by 'provstate' and sum the 'casualities'\n",
    "provstate_casualities = df_filtered.groupby('provstate')['casualties'].sum().reset_index()\n",
    "\n",
    "# Step 3: Sort by 'casualities' to get the top 8 'provstate's\n",
    "top_provstates = provstate_casualities.sort_values(by='casualties', ascending=False).head(4)\n",
    "\n",
    "# Step 4: Filter the original df_filtered to include only the top 8 'provstate's\n",
    "df_top_provstates = df_filtered[df_filtered['provstate'].isin(top_provstates['provstate'])]\n"
   ]
  },
  {
   "cell_type": "code",
   "execution_count": 52,
   "metadata": {
    "ExecuteTime": {
     "end_time": "2024-07-11T21:28:41.242763Z",
     "start_time": "2024-07-11T21:28:40.985204Z"
    }
   },
   "outputs": [
    {
     "data": {
      "image/png": "[encoded data removed]",
      "text/plain": [
       "<Figure size 576x432 with 2 Axes>"
      ]
     },
     "metadata": {
      "needs_background": "light"
     },
     "output_type": "display_data"
    }
   ],
   "source": [
    "# Creating a heatmap using Seaborn\n",
    "plt.figure(figsize=(8, 6))\n",
    "heatmap_data = df_top_provstates.pivot_table(index='provstate', columns='iyear', values='casualties', aggfunc='mean')\n",
    "#display(heatmap_data)\n",
    "sns.heatmap(heatmap_data, cmap='coolwarm', annot=True, fmt=\".1f\")\n",
    "plt.title('Casualties by State and Year')\n",
    "plt.xlabel('Year')\n",
    "plt.ylabel('Category')\n",
    "plt.show()"
   ]
  },
  {
   "cell_type": "code",
   "execution_count": 53,
   "metadata": {
    "ExecuteTime": {
     "end_time": "2024-07-11T21:28:43.761023Z",
     "start_time": "2024-07-11T21:28:43.500566Z"
    },
    "tags": []
   },
   "outputs": [
    {
     "name": "stderr",
     "output_type": "stream",
     "text": [
      "C:\\Users\\student\\AppData\\Local\\Temp/ipykernel_12688/827283536.py:4: SettingWithCopyWarning:\n",
      "\n",
      "\n",
      "A value is trying to be set on a copy of a slice from a DataFrame.\n",
      "Try using .loc[row_indexer,col_indexer] = value instead\n",
      "\n",
      "See the caveats in the documentation: https://pandas.pydata.org/pandas-docs/stable/user_guide/indexing.html#returning-a-view-versus-a-copy\n",
      "\n"
     ]
    },
    {
     "data": {
      "text/html": [
       "<div>\n",
       "<style scoped>\n",
       "    .dataframe tbody tr th:only-of-type {\n",
       "        vertical-align: middle;\n",
       "    }\n",
       "\n",
       "    .dataframe tbody tr th {\n",
       "        vertical-align: top;\n",
       "    }\n",
       "\n",
       "    .dataframe thead th {\n",
       "        text-align: right;\n",
       "    }\n",
       "</style>\n",
       "<table border=\"1\" class=\"dataframe\">\n",
       "  <thead>\n",
       "    <tr style=\"text-align: right;\">\n",
       "      <th></th>\n",
       "      <th>eventid</th>\n",
       "      <th>iyear</th>\n",
       "      <th>imonth</th>\n",
       "      <th>iday</th>\n",
       "      <th>extended</th>\n",
       "      <th>country</th>\n",
       "      <th>country_txt</th>\n",
       "      <th>region</th>\n",
       "      <th>region_txt</th>\n",
       "      <th>provstate</th>\n",
       "      <th>...</th>\n",
       "      <th>scite3</th>\n",
       "      <th>dbsource</th>\n",
       "      <th>INT_LOG</th>\n",
       "      <th>INT_IDEO</th>\n",
       "      <th>INT_MISC</th>\n",
       "      <th>INT_ANY</th>\n",
       "      <th>North</th>\n",
       "      <th>casualties</th>\n",
       "      <th>casualty_bin</th>\n",
       "      <th>date</th>\n",
       "    </tr>\n",
       "  </thead>\n",
       "  <tbody>\n",
       "    <tr>\n",
       "      <th>5</th>\n",
       "      <td>197001010002</td>\n",
       "      <td>1970</td>\n",
       "      <td>1</td>\n",
       "      <td>1</td>\n",
       "      <td>0</td>\n",
       "      <td>217</td>\n",
       "      <td>United States</td>\n",
       "      <td>1</td>\n",
       "      <td>North America</td>\n",
       "      <td>Illinois</td>\n",
       "      <td>...</td>\n",
       "      <td>Christopher Hewitt, \"Political Violence and Te...</td>\n",
       "      <td>Hewitt Project</td>\n",
       "      <td>-9</td>\n",
       "      <td>-9</td>\n",
       "      <td>0</td>\n",
       "      <td>-9</td>\n",
       "      <td>0</td>\n",
       "      <td>0.0</td>\n",
       "      <td>0-5</td>\n",
       "      <td>1970-01-01 00:00:00</td>\n",
       "    </tr>\n",
       "    <tr>\n",
       "      <th>7</th>\n",
       "      <td>197001020002</td>\n",
       "      <td>1970</td>\n",
       "      <td>1</td>\n",
       "      <td>2</td>\n",
       "      <td>0</td>\n",
       "      <td>217</td>\n",
       "      <td>United States</td>\n",
       "      <td>1</td>\n",
       "      <td>North America</td>\n",
       "      <td>California</td>\n",
       "      <td>...</td>\n",
       "      <td>NaN</td>\n",
       "      <td>Hewitt Project</td>\n",
       "      <td>-9</td>\n",
       "      <td>-9</td>\n",
       "      <td>0</td>\n",
       "      <td>-9</td>\n",
       "      <td>0</td>\n",
       "      <td>0.0</td>\n",
       "      <td>0-5</td>\n",
       "      <td>1970-01-02 00:00:00</td>\n",
       "    </tr>\n",
       "    <tr>\n",
       "      <th>8</th>\n",
       "      <td>197001020003</td>\n",
       "      <td>1970</td>\n",
       "      <td>1</td>\n",
       "      <td>2</td>\n",
       "      <td>0</td>\n",
       "      <td>217</td>\n",
       "      <td>United States</td>\n",
       "      <td>1</td>\n",
       "      <td>North America</td>\n",
       "      <td>Wisconsin</td>\n",
       "      <td>...</td>\n",
       "      <td>The Wisconsin Cartographers' Guild, \"Wisconsin...</td>\n",
       "      <td>Hewitt Project</td>\n",
       "      <td>0</td>\n",
       "      <td>0</td>\n",
       "      <td>0</td>\n",
       "      <td>0</td>\n",
       "      <td>1</td>\n",
       "      <td>0.0</td>\n",
       "      <td>0-5</td>\n",
       "      <td>1970-01-02 00:00:00</td>\n",
       "    </tr>\n",
       "    <tr>\n",
       "      <th>9</th>\n",
       "      <td>197001030001</td>\n",
       "      <td>1970</td>\n",
       "      <td>1</td>\n",
       "      <td>3</td>\n",
       "      <td>0</td>\n",
       "      <td>217</td>\n",
       "      <td>United States</td>\n",
       "      <td>1</td>\n",
       "      <td>North America</td>\n",
       "      <td>Wisconsin</td>\n",
       "      <td>...</td>\n",
       "      <td>David Newman, Sandra Sutherland, and Jon Stewa...</td>\n",
       "      <td>Hewitt Project</td>\n",
       "      <td>0</td>\n",
       "      <td>0</td>\n",
       "      <td>0</td>\n",
       "      <td>0</td>\n",
       "      <td>1</td>\n",
       "      <td>0.0</td>\n",
       "      <td>0-5</td>\n",
       "      <td>1970-01-03 00:00:00</td>\n",
       "    </tr>\n",
       "    <tr>\n",
       "      <th>10</th>\n",
       "      <td>197001050001</td>\n",
       "      <td>1970</td>\n",
       "      <td>1</td>\n",
       "      <td>1</td>\n",
       "      <td>0</td>\n",
       "      <td>217</td>\n",
       "      <td>United States</td>\n",
       "      <td>1</td>\n",
       "      <td>North America</td>\n",
       "      <td>Wisconsin</td>\n",
       "      <td>...</td>\n",
       "      <td>NaN</td>\n",
       "      <td>PGIS</td>\n",
       "      <td>0</td>\n",
       "      <td>0</td>\n",
       "      <td>0</td>\n",
       "      <td>0</td>\n",
       "      <td>1</td>\n",
       "      <td>0.0</td>\n",
       "      <td>0-5</td>\n",
       "      <td>1970-01-01 00:00:00</td>\n",
       "    </tr>\n",
       "  </tbody>\n",
       "</table>\n",
       "<p>5 rows × 88 columns</p>\n",
       "</div>"
      ],
      "text/plain": [
       "         eventid  iyear  imonth  iday  extended  country    country_txt  \\\n",
       "5   197001010002   1970       1     1         0      217  United States   \n",
       "7   197001020002   1970       1     2         0      217  United States   \n",
       "8   197001020003   1970       1     2         0      217  United States   \n",
       "9   197001030001   1970       1     3         0      217  United States   \n",
       "10  197001050001   1970       1     1         0      217  United States   \n",
       "\n",
       "    region     region_txt   provstate  ...  \\\n",
       "5        1  North America    Illinois  ...   \n",
       "7        1  North America  California  ...   \n",
       "8        1  North America   Wisconsin  ...   \n",
       "9        1  North America   Wisconsin  ...   \n",
       "10       1  North America   Wisconsin  ...   \n",
       "\n",
       "                                               scite3        dbsource  \\\n",
       "5   Christopher Hewitt, \"Political Violence and Te...  Hewitt Project   \n",
       "7                                                 NaN  Hewitt Project   \n",
       "8   The Wisconsin Cartographers' Guild, \"Wisconsin...  Hewitt Project   \n",
       "9   David Newman, Sandra Sutherland, and Jon Stewa...  Hewitt Project   \n",
       "10                                                NaN            PGIS   \n",
       "\n",
       "    INT_LOG  INT_IDEO  INT_MISC INT_ANY North  casualties  casualty_bin  \\\n",
       "5        -9        -9         0      -9     0         0.0           0-5   \n",
       "7        -9        -9         0      -9     0         0.0           0-5   \n",
       "8         0         0         0       0     1         0.0           0-5   \n",
       "9         0         0         0       0     1         0.0           0-5   \n",
       "10        0         0         0       0     1         0.0           0-5   \n",
       "\n",
       "                   date  \n",
       "5   1970-01-01 00:00:00  \n",
       "7   1970-01-02 00:00:00  \n",
       "8   1970-01-02 00:00:00  \n",
       "9   1970-01-03 00:00:00  \n",
       "10  1970-01-01 00:00:00  \n",
       "\n",
       "[5 rows x 88 columns]"
      ]
     },
     "execution_count": 53,
     "metadata": {},
     "output_type": "execute_result"
    }
   ],
   "source": [
    "valid_dates = (dfUS['iyear'] > 0) & (dfUS['imonth'].between(1, 12)) & (dfUS['iday'].between(1, 31)) \n",
    "dfGTD2_valid = dfUS[valid_dates]\n",
    "\n",
    "dfGTD2_valid['date'] = pd.to_datetime(dfGTD2_valid[['iyear', 'imonth', 'iday']].astype(str).agg('-'.join, axis=1), errors='coerce').dt.strftime('%-m/%-d/%Y')\n",
    "\n",
    "dfGTD2_valid = dfGTD2_valid.dropna(subset=['date'])\n",
    "dfGTD2_valid.head()"
   ]
  },
  {
   "cell_type": "code",
   "execution_count": 54,
   "metadata": {
    "ExecuteTime": {
     "end_time": "2024-07-11T21:28:46.390002Z",
     "start_time": "2024-07-11T21:28:46.271442Z"
    },
    "tags": []
   },
   "outputs": [
    {
     "data": {
      "text/html": [
       "<div>\n",
       "<style scoped>\n",
       "    .dataframe tbody tr th:only-of-type {\n",
       "        vertical-align: middle;\n",
       "    }\n",
       "\n",
       "    .dataframe tbody tr th {\n",
       "        vertical-align: top;\n",
       "    }\n",
       "\n",
       "    .dataframe thead th {\n",
       "        text-align: right;\n",
       "    }\n",
       "</style>\n",
       "<table border=\"1\" class=\"dataframe\">\n",
       "  <thead>\n",
       "    <tr style=\"text-align: right;\">\n",
       "      <th></th>\n",
       "      <th>eventid</th>\n",
       "      <th>iyear</th>\n",
       "      <th>imonth</th>\n",
       "      <th>iday</th>\n",
       "      <th>extended</th>\n",
       "      <th>country</th>\n",
       "      <th>country_txt</th>\n",
       "      <th>region</th>\n",
       "      <th>region_txt</th>\n",
       "      <th>provstate</th>\n",
       "      <th>...</th>\n",
       "      <th>INT_ANY</th>\n",
       "      <th>North</th>\n",
       "      <th>casualties</th>\n",
       "      <th>casualty_bin</th>\n",
       "      <th>date</th>\n",
       "      <th>Debt_Held_by_the_Public</th>\n",
       "      <th>Intragovernmental_Holdings</th>\n",
       "      <th>Total_Public_Debt_Outstanding</th>\n",
       "      <th>Year_Month</th>\n",
       "      <th>Year</th>\n",
       "    </tr>\n",
       "  </thead>\n",
       "  <tbody>\n",
       "    <tr>\n",
       "      <th>3083</th>\n",
       "      <td>202012130030</td>\n",
       "      <td>2020</td>\n",
       "      <td>12</td>\n",
       "      <td>13</td>\n",
       "      <td>0</td>\n",
       "      <td>217</td>\n",
       "      <td>United States</td>\n",
       "      <td>1</td>\n",
       "      <td>North America</td>\n",
       "      <td>Massachusetts</td>\n",
       "      <td>...</td>\n",
       "      <td>-9</td>\n",
       "      <td>1</td>\n",
       "      <td>0.0</td>\n",
       "      <td>0-5</td>\n",
       "      <td>2020-12-13</td>\n",
       "      <td>NaN</td>\n",
       "      <td>NaN</td>\n",
       "      <td>NaN</td>\n",
       "      <td>NaT</td>\n",
       "      <td>NaN</td>\n",
       "    </tr>\n",
       "    <tr>\n",
       "      <th>3084</th>\n",
       "      <td>202012130044</td>\n",
       "      <td>2020</td>\n",
       "      <td>12</td>\n",
       "      <td>13</td>\n",
       "      <td>0</td>\n",
       "      <td>217</td>\n",
       "      <td>United States</td>\n",
       "      <td>1</td>\n",
       "      <td>North America</td>\n",
       "      <td>New York</td>\n",
       "      <td>...</td>\n",
       "      <td>-9</td>\n",
       "      <td>1</td>\n",
       "      <td>1.0</td>\n",
       "      <td>0-5</td>\n",
       "      <td>2020-12-13</td>\n",
       "      <td>NaN</td>\n",
       "      <td>NaN</td>\n",
       "      <td>NaN</td>\n",
       "      <td>NaT</td>\n",
       "      <td>NaN</td>\n",
       "    </tr>\n",
       "    <tr>\n",
       "      <th>3085</th>\n",
       "      <td>202012150028</td>\n",
       "      <td>2020</td>\n",
       "      <td>12</td>\n",
       "      <td>15</td>\n",
       "      <td>0</td>\n",
       "      <td>217</td>\n",
       "      <td>United States</td>\n",
       "      <td>1</td>\n",
       "      <td>North America</td>\n",
       "      <td>Massachusetts</td>\n",
       "      <td>...</td>\n",
       "      <td>-9</td>\n",
       "      <td>1</td>\n",
       "      <td>0.0</td>\n",
       "      <td>0-5</td>\n",
       "      <td>2020-12-15</td>\n",
       "      <td>2.140000e+13</td>\n",
       "      <td>6.060000e+12</td>\n",
       "      <td>2.750000e+13</td>\n",
       "      <td>2020-12</td>\n",
       "      <td>2020.0</td>\n",
       "    </tr>\n",
       "    <tr>\n",
       "      <th>3086</th>\n",
       "      <td>202012250003</td>\n",
       "      <td>2020</td>\n",
       "      <td>12</td>\n",
       "      <td>25</td>\n",
       "      <td>0</td>\n",
       "      <td>217</td>\n",
       "      <td>United States</td>\n",
       "      <td>1</td>\n",
       "      <td>North America</td>\n",
       "      <td>Tennessee</td>\n",
       "      <td>...</td>\n",
       "      <td>-9</td>\n",
       "      <td>0</td>\n",
       "      <td>4.0</td>\n",
       "      <td>0-5</td>\n",
       "      <td>2020-12-25</td>\n",
       "      <td>NaN</td>\n",
       "      <td>NaN</td>\n",
       "      <td>NaN</td>\n",
       "      <td>NaT</td>\n",
       "      <td>NaN</td>\n",
       "    </tr>\n",
       "    <tr>\n",
       "      <th>3087</th>\n",
       "      <td>202012280022</td>\n",
       "      <td>2020</td>\n",
       "      <td>12</td>\n",
       "      <td>28</td>\n",
       "      <td>0</td>\n",
       "      <td>217</td>\n",
       "      <td>United States</td>\n",
       "      <td>1</td>\n",
       "      <td>North America</td>\n",
       "      <td>Massachusetts</td>\n",
       "      <td>...</td>\n",
       "      <td>-9</td>\n",
       "      <td>1</td>\n",
       "      <td>0.0</td>\n",
       "      <td>0-5</td>\n",
       "      <td>2020-12-28</td>\n",
       "      <td>2.150000e+13</td>\n",
       "      <td>6.070000e+12</td>\n",
       "      <td>2.750000e+13</td>\n",
       "      <td>2020-12</td>\n",
       "      <td>2020.0</td>\n",
       "    </tr>\n",
       "  </tbody>\n",
       "</table>\n",
       "<p>5 rows × 93 columns</p>\n",
       "</div>"
      ],
      "text/plain": [
       "           eventid  iyear  imonth  iday  extended  country    country_txt  \\\n",
       "3083  202012130030   2020      12    13         0      217  United States   \n",
       "3084  202012130044   2020      12    13         0      217  United States   \n",
       "3085  202012150028   2020      12    15         0      217  United States   \n",
       "3086  202012250003   2020      12    25         0      217  United States   \n",
       "3087  202012280022   2020      12    28         0      217  United States   \n",
       "\n",
       "      region     region_txt      provstate  ... INT_ANY  North  casualties  \\\n",
       "3083       1  North America  Massachusetts  ...      -9      1         0.0   \n",
       "3084       1  North America       New York  ...      -9      1         1.0   \n",
       "3085       1  North America  Massachusetts  ...      -9      1         0.0   \n",
       "3086       1  North America      Tennessee  ...      -9      0         4.0   \n",
       "3087       1  North America  Massachusetts  ...      -9      1         0.0   \n",
       "\n",
       "      casualty_bin       date Debt_Held_by_the_Public  \\\n",
       "3083           0-5 2020-12-13                     NaN   \n",
       "3084           0-5 2020-12-13                     NaN   \n",
       "3085           0-5 2020-12-15            2.140000e+13   \n",
       "3086           0-5 2020-12-25                     NaN   \n",
       "3087           0-5 2020-12-28            2.150000e+13   \n",
       "\n",
       "     Intragovernmental_Holdings  Total_Public_Debt_Outstanding  Year_Month  \\\n",
       "3083                        NaN                            NaN         NaT   \n",
       "3084                        NaN                            NaN         NaT   \n",
       "3085               6.060000e+12                   2.750000e+13     2020-12   \n",
       "3086                        NaN                            NaN         NaT   \n",
       "3087               6.070000e+12                   2.750000e+13     2020-12   \n",
       "\n",
       "        Year  \n",
       "3083     NaN  \n",
       "3084     NaN  \n",
       "3085  2020.0  \n",
       "3086     NaN  \n",
       "3087  2020.0  \n",
       "\n",
       "[5 rows x 93 columns]"
      ]
     },
     "execution_count": 54,
     "metadata": {},
     "output_type": "execute_result"
    }
   ],
   "source": [
    "dfDebt = dfDebt.rename(columns={'Record_Date': 'date'})\n",
    "dfGTD2_valid['date'] = pd.to_datetime(dfGTD2_valid['date'])\n",
    "dfGTD2_valid['date'] = pd.to_datetime(dfGTD2_valid['date'])\n",
    "\n",
    "dfUSDEBT = pd.merge(dfGTD2_valid, dfDebt, on='date', how='left')\n",
    "\n",
    "dfUSDEBT.tail()"
   ]
  },
  {
   "cell_type": "code",
   "execution_count": 55,
   "metadata": {
    "ExecuteTime": {
     "end_time": "2024-07-11T21:28:50.605403Z",
     "start_time": "2024-07-11T21:28:50.117170Z"
    }
   },
   "outputs": [
    {
     "data": {
      "image/png": "[encoded data removed]",
      "text/plain": [
       "<Figure size 864x432 with 2 Axes>"
      ]
     },
     "metadata": {
      "needs_background": "light"
     },
     "output_type": "display_data"
    }
   ],
   "source": [
    "dfFiltered = dfUSDEBT.dropna(subset=['Total_Public_Debt_Outstanding'])\n",
    "dfCount = dfFiltered.groupby('date').size().reset_index(name='instance_count')\n",
    "dfFiltered = dfFiltered.merge(dfCount, on='date')\n",
    "\n",
    "fig, ax1 = plt.subplots(figsize=(12, 6))\n",
    "ax1.plot(dfFiltered['date'], dfFiltered['instance_count'], color='tab:blue')\n",
    "ax1.set_xlabel('Date')\n",
    "ax1.set_ylabel('Instance Count', color='tab:blue')\n",
    "ax1.tick_params(axis='y', labelcolor='tab:blue')\n",
    "\n",
    "ax2 = ax1.twinx()\n",
    "ax2.plot(dfFiltered['date'], dfFiltered['Total_Public_Debt_Outstanding'], color='tab:red')\n",
    "ax2.set_ylabel('Total Public Debt Outstanding in 10 Trillions', color='tab:red')\n",
    "ax2.tick_params(axis='y', labelcolor='tab:red')\n",
    "\n",
    "plt.title('Instances Count and Total Public Debt Outstanding Over Time')\n",
    "fig.tight_layout()\n",
    "\n",
    "plt.show()"
   ]
  },
  {
   "cell_type": "code",
   "execution_count": 35,
   "metadata": {
    "ExecuteTime": {
     "end_time": "2024-07-11T21:26:05.912355Z",
     "start_time": "2024-07-11T21:26:05.868472Z"
    }
   },
   "outputs": [
    {
     "name": "stderr",
     "output_type": "stream",
     "text": [
      "C:\\Users\\student\\AppData\\Local\\Temp/ipykernel_12688/1934185501.py:22: SettingWithCopyWarning:\n",
      "\n",
      "\n",
      "A value is trying to be set on a copy of a slice from a DataFrame.\n",
      "Try using .loc[row_indexer,col_indexer] = value instead\n",
      "\n",
      "See the caveats in the documentation: https://pandas.pydata.org/pandas-docs/stable/user_guide/indexing.html#returning-a-view-versus-a-copy\n",
      "\n"
     ]
    },
    {
     "data": {
      "text/html": [
       "<div>\n",
       "<style scoped>\n",
       "    .dataframe tbody tr th:only-of-type {\n",
       "        vertical-align: middle;\n",
       "    }\n",
       "\n",
       "    .dataframe tbody tr th {\n",
       "        vertical-align: top;\n",
       "    }\n",
       "\n",
       "    .dataframe thead th {\n",
       "        text-align: right;\n",
       "    }\n",
       "</style>\n",
       "<table border=\"1\" class=\"dataframe\">\n",
       "  <thead>\n",
       "    <tr style=\"text-align: right;\">\n",
       "      <th></th>\n",
       "      <th>provstate</th>\n",
       "      <th>USregion</th>\n",
       "    </tr>\n",
       "  </thead>\n",
       "  <tbody>\n",
       "    <tr>\n",
       "      <th>5</th>\n",
       "      <td>Illinois</td>\n",
       "      <td>Midwest</td>\n",
       "    </tr>\n",
       "    <tr>\n",
       "      <th>7</th>\n",
       "      <td>California</td>\n",
       "      <td>West</td>\n",
       "    </tr>\n",
       "    <tr>\n",
       "      <th>8</th>\n",
       "      <td>Wisconsin</td>\n",
       "      <td>Midwest</td>\n",
       "    </tr>\n",
       "    <tr>\n",
       "      <th>9</th>\n",
       "      <td>Wisconsin</td>\n",
       "      <td>Midwest</td>\n",
       "    </tr>\n",
       "    <tr>\n",
       "      <th>10</th>\n",
       "      <td>Wisconsin</td>\n",
       "      <td>Midwest</td>\n",
       "    </tr>\n",
       "  </tbody>\n",
       "</table>\n",
       "</div>"
      ],
      "text/plain": [
       "     provstate USregion\n",
       "5     Illinois  Midwest\n",
       "7   California     West\n",
       "8    Wisconsin  Midwest\n",
       "9    Wisconsin  Midwest\n",
       "10   Wisconsin  Midwest"
      ]
     },
     "execution_count": 35,
     "metadata": {},
     "output_type": "execute_result"
    }
   ],
   "source": [
    "state_to_region = {\n",
    "    'Connecticut': 'Northeast', 'Maine': 'Northeast', 'Massachusetts': 'Northeast', \n",
    "    'New Hampshire': 'Northeast', 'Rhode Island': 'Northeast', 'Vermont': 'Northeast', \n",
    "    'New Jersey': 'Northeast', 'New York': 'Northeast', 'Pennsylvania': 'Northeast',\n",
    "    'Illinois': 'Midwest', 'Indiana': 'Midwest', 'Iowa': 'Midwest', 'Kansas': 'Midwest', \n",
    "    'Michigan': 'Midwest', 'Minnesota': 'Midwest', 'Missouri': 'Midwest', 'Nebraska': 'Midwest', \n",
    "    'North Dakota': 'Midwest', 'Ohio': 'Midwest', 'South Dakota': 'Midwest', 'Wisconsin': 'Midwest',\n",
    "    'Alabama': 'South', 'Arkansas': 'South', 'Delaware': 'South', 'Florida': 'South', 'Georgia': 'South', \n",
    "    'Kentucky': 'South', 'Louisiana': 'South', 'Maryland': 'South', 'Mississippi': 'South', \n",
    "    'North Carolina': 'South', 'Oklahoma': 'South', 'South Carolina': 'South', 'Tennessee': 'South', \n",
    "    'Texas': 'South', 'Virginia': 'South', 'West Virginia': 'South',\n",
    "    'Alaska': 'West', 'Arizona': 'West', 'California': 'West', 'Colorado': 'West', 'Hawaii': 'West', \n",
    "    'Idaho': 'West', 'Montana': 'West', 'Nevada': 'West', 'New Mexico': 'West', \n",
    "    'Oregon': 'West', 'Utah': 'West', 'Washington': 'West', 'Wyoming': 'West',\n",
    "    'District of Columbia': 'Other', 'Puerto Rico': 'Other', 'Guam': 'Other', \n",
    "    'Virgin Islands': 'Other', 'American Samoa': 'Other', 'Northern Mariana Islands': 'Other'\n",
    "}\n",
    "\n",
    "def get_region(state):\n",
    "    return state_to_region.get(state, 'Other')\n",
    "\n",
    "dfUS['USregion'] = dfUS['provstate'].apply(get_region)\n",
    "\n",
    "dfUS[['provstate', 'USregion']].head()\n"
   ]
  },
  {
   "cell_type": "code",
   "execution_count": 36,
   "metadata": {
    "ExecuteTime": {
     "end_time": "2024-07-11T21:26:06.130954Z",
     "start_time": "2024-07-11T21:26:05.914829Z"
    },
    "tags": []
   },
   "outputs": [
    {
     "data": {
      "image/png": "[encoded data removed]",
      "text/plain": [
       "<Figure size 720x432 with 1 Axes>"
      ]
     },
     "metadata": {
      "needs_background": "light"
     },
     "output_type": "display_data"
    }
   ],
   "source": [
    "import matplotlib.pyplot as plt\n",
    "\n",
    "# Count the instances by region\n",
    "region_counts = dfUS['USregion'].value_counts()\n",
    "\n",
    "# Create a bar plot\n",
    "plt.figure(figsize=(10, 6))\n",
    "region_counts.plot(kind='bar', color='skyblue')\n",
    "plt.title('Count of Instances by Region')\n",
    "plt.xlabel('Region')\n",
    "plt.ylabel('Count of Instances')\n",
    "plt.xticks(rotation=0)\n",
    "plt.show()\n"
   ]
  },
  {
   "cell_type": "code",
   "execution_count": 37,
   "metadata": {
    "ExecuteTime": {
     "end_time": "2024-07-11T21:26:06.412822Z",
     "start_time": "2024-07-11T21:26:06.136944Z"
    },
    "tags": []
   },
   "outputs": [
    {
     "data": {
      "image/png": "[encoded data removed]",
      "text/plain": [
       "<Figure size 720x432 with 1 Axes>"
      ]
     },
     "metadata": {
      "needs_background": "light"
     },
     "output_type": "display_data"
    }
   ],
   "source": [
    "region_counts = dfGTD2['region_txt'].value_counts()\n",
    "\n",
    "# Create a bar plot\n",
    "plt.figure(figsize=(10, 6))\n",
    "region_counts.plot(kind='bar', color='skyblue')\n",
    "plt.title('Count of Instances by Region')\n",
    "plt.xlabel('Region')\n",
    "plt.ylabel('Count of Instances')\n",
    "plt.xticks(rotation=45)\n",
    "plt.show()"
   ]
  },
  {
   "cell_type": "code",
   "execution_count": 38,
   "metadata": {
    "ExecuteTime": {
     "end_time": "2024-07-11T21:26:06.522677Z",
     "start_time": "2024-07-11T21:26:06.416174Z"
    },
    "tags": []
   },
   "outputs": [
    {
     "name": "stderr",
     "output_type": "stream",
     "text": [
      "C:\\Users\\student\\AppData\\Local\\Temp/ipykernel_12688/2917428158.py:7: SettingWithCopyWarning:\n",
      "\n",
      "\n",
      "A value is trying to be set on a copy of a slice from a DataFrame.\n",
      "Try using .loc[row_indexer,col_indexer] = value instead\n",
      "\n",
      "See the caveats in the documentation: https://pandas.pydata.org/pandas-docs/stable/user_guide/indexing.html#returning-a-view-versus-a-copy\n",
      "\n"
     ]
    }
   ],
   "source": [
    "region_country_counts = dfGTD2.groupby(['region_txt', 'country_txt']).size().reset_index(name='count')\n",
    "\n",
    "top_regions = region_country_counts.groupby('region_txt')['count'].sum().nlargest(5).index\n",
    "\n",
    "top_region_data = region_country_counts[region_country_counts['region_txt'].isin(top_regions)]\n",
    "\n",
    "top_region_data['country_rank'] = top_region_data.groupby('region_txt')['count'].rank(method='first', ascending=False)\n",
    "\n",
    "top_countries_data = top_region_data[top_region_data['country_rank'] <= 4]\n",
    "other_countries_data = top_region_data[top_region_data['country_rank'] > 4].groupby('region_txt')['count'].sum().reset_index()\n",
    "other_countries_data['country_txt'] = 'Other'\n",
    "\n",
    "combined_data = pd.concat([top_countries_data, other_countries_data], ignore_index=True)"
   ]
  },
  {
   "cell_type": "code",
   "execution_count": 39,
   "metadata": {
    "ExecuteTime": {
     "end_time": "2024-07-11T21:26:07.150769Z",
     "start_time": "2024-07-11T21:26:06.528850Z"
    },
    "tags": []
   },
   "outputs": [
    {
     "data": {
      "image/png": "[encoded data removed]",
      "text/plain": [
       "<Figure size 864x576 with 1 Axes>"
      ]
     },
     "metadata": {
      "needs_background": "light"
     },
     "output_type": "display_data"
    }
   ],
   "source": [
    "pivot_data = combined_data.pivot_table(index='region_txt', columns='country_txt', values='count', fill_value=0)\n",
    "\n",
    "ordered_regions = pivot_data.sum(axis=1).sort_values(ascending=False).index\n",
    "pivot_data = pivot_data.loc[ordered_regions]\n",
    "\n",
    "for region in pivot_data.index:\n",
    "    pivot_data.loc[region] = pivot_data.loc[region].sort_values(ascending=False)\n",
    "\n",
    "pivot_data.plot(kind='bar', stacked=True, figsize=(12, 8), colormap='tab20')\n",
    "plt.title('Top 5 Regions with Top 4 Countries and Others in Each Region')\n",
    "plt.xlabel('Region')\n",
    "plt.ylabel('Count of Instances')\n",
    "plt.xticks(rotation=45)\n",
    "plt.legend(title='Country', bbox_to_anchor=(1.05, 1), loc='upper left')\n",
    "plt.show()\n"
   ]
  },
  {
   "cell_type": "code",
   "execution_count": null,
   "metadata": {},
   "outputs": [],
   "source": []
  }
 ],
 "metadata": {
  "hide_input": false,
  "kernelspec": {
   "display_name": "Python 3 (ipykernel)",
   "language": "python",
   "name": "python3"
  },
  "language_info": {
   "codemirror_mode": {
    "name": "ipython",
    "version": 3
   },
   "file_extension": ".py",
   "mimetype": "text/x-python",
   "name": "python",
   "nbconvert_exporter": "python",
   "pygments_lexer": "ipython3",
   "version": "3.8.5"
  },
  "toc": {
   "base_numbering": 1,
   "nav_menu": {},
   "number_sections": true,
   "sideBar": true,
   "skip_h1_title": false,
   "title_cell": "Table of Contents",
   "title_sidebar": "Contents",
   "toc_cell": false,
   "toc_position": {},
   "toc_section_display": true,
   "toc_window_display": false
  },
  "varInspector": {
   "cols": {
    "lenName": 16,
    "lenType": 16,
    "lenVar": 40
   },
   "kernels_config": {
    "python": {
     "delete_cmd_postfix": "",
     "delete_cmd_prefix": "del ",
     "library": "var_list.py",
     "varRefreshCmd": "print(var_dic_list())"
    },
    "r": {
     "delete_cmd_postfix": ") ",
     "delete_cmd_prefix": "rm(",
     "library": "var_list.r",
     "varRefreshCmd": "cat(var_dic_list()) "
    }
   },
   "types_to_exclude": [
    "module",
    "function",
    "builtin_function_or_method",
    "instance",
    "_Feature"
   ],
   "window_display": false
  }
 },
 "nbformat": 4,
 "nbformat_minor": 4
}
